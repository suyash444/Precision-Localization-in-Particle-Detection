{
  "cells": [
    {
      "cell_type": "markdown",
      "metadata": {
        "id": "eOe_GlwMc76M"
      },
      "source": [
        "### Installing CatBoost Library\n",
        "\n",
        "We will install the CatBoost library which provides the CatBoostRegressor, a powerful algorithm for regression tasks."
      ]
    },
    {
      "cell_type": "code",
      "execution_count": 1,
      "metadata": {
        "colab": {
          "base_uri": "https://localhost:8080/"
        },
        "id": "Pi3py9HudQ93",
        "outputId": "a9edfaeb-c605-4c30-f431-195d5c74846f"
      },
      "outputs": [
        {
          "output_type": "stream",
          "name": "stdout",
          "text": [
            "Collecting catboost\n",
            "  Downloading catboost-1.2.2-cp310-cp310-manylinux2014_x86_64.whl (98.7 MB)\n",
            "\u001b[2K     \u001b[90m━━━━━━━━━━━━━━━━━━━━━━━━━━━━━━━━━━━━━━━━\u001b[0m \u001b[32m98.7/98.7 MB\u001b[0m \u001b[31m6.9 MB/s\u001b[0m eta \u001b[36m0:00:00\u001b[0m\n",
            "\u001b[?25hRequirement already satisfied: graphviz in /usr/local/lib/python3.10/dist-packages (from catboost) (0.20.1)\n",
            "Requirement already satisfied: matplotlib in /usr/local/lib/python3.10/dist-packages (from catboost) (3.7.1)\n",
            "Requirement already satisfied: numpy>=1.16.0 in /usr/local/lib/python3.10/dist-packages (from catboost) (1.23.5)\n",
            "Requirement already satisfied: pandas>=0.24 in /usr/local/lib/python3.10/dist-packages (from catboost) (1.5.3)\n",
            "Requirement already satisfied: scipy in /usr/local/lib/python3.10/dist-packages (from catboost) (1.11.4)\n",
            "Requirement already satisfied: plotly in /usr/local/lib/python3.10/dist-packages (from catboost) (5.15.0)\n",
            "Requirement already satisfied: six in /usr/local/lib/python3.10/dist-packages (from catboost) (1.16.0)\n",
            "Requirement already satisfied: python-dateutil>=2.8.1 in /usr/local/lib/python3.10/dist-packages (from pandas>=0.24->catboost) (2.8.2)\n",
            "Requirement already satisfied: pytz>=2020.1 in /usr/local/lib/python3.10/dist-packages (from pandas>=0.24->catboost) (2023.3.post1)\n",
            "Requirement already satisfied: contourpy>=1.0.1 in /usr/local/lib/python3.10/dist-packages (from matplotlib->catboost) (1.2.0)\n",
            "Requirement already satisfied: cycler>=0.10 in /usr/local/lib/python3.10/dist-packages (from matplotlib->catboost) (0.12.1)\n",
            "Requirement already satisfied: fonttools>=4.22.0 in /usr/local/lib/python3.10/dist-packages (from matplotlib->catboost) (4.47.2)\n",
            "Requirement already satisfied: kiwisolver>=1.0.1 in /usr/local/lib/python3.10/dist-packages (from matplotlib->catboost) (1.4.5)\n",
            "Requirement already satisfied: packaging>=20.0 in /usr/local/lib/python3.10/dist-packages (from matplotlib->catboost) (23.2)\n",
            "Requirement already satisfied: pillow>=6.2.0 in /usr/local/lib/python3.10/dist-packages (from matplotlib->catboost) (9.4.0)\n",
            "Requirement already satisfied: pyparsing>=2.3.1 in /usr/local/lib/python3.10/dist-packages (from matplotlib->catboost) (3.1.1)\n",
            "Requirement already satisfied: tenacity>=6.2.0 in /usr/local/lib/python3.10/dist-packages (from plotly->catboost) (8.2.3)\n",
            "Installing collected packages: catboost\n",
            "Successfully installed catboost-1.2.2\n"
          ]
        }
      ],
      "source": [
        "!pip install catboost"
      ]
    },
    {
      "cell_type": "markdown",
      "metadata": {
        "id": "xNawhloqdhxX"
      },
      "source": [
        "# Importing Necessary Libraries"
      ]
    },
    {
      "cell_type": "markdown",
      "metadata": {
        "id": "LlJs2eohdkbF"
      },
      "source": [
        "In this section, we import all the libraries necessary for our data analysis and machine learning tasks. This includes libraries for data manipulation (pandas, numpy), machine learning algorithms (CatBoost, scikit-learn), and visualization (matplotlib)."
      ]
    },
    {
      "cell_type": "code",
      "execution_count": 2,
      "metadata": {
        "id": "fTa8ibR7dp4i"
      },
      "outputs": [],
      "source": [
        "import pandas as pd\n",
        "import numpy as np\n",
        "from sklearn.ensemble import RandomForestRegressor\n",
        "from catboost import CatBoostRegressor\n",
        "from sklearn.tree import DecisionTreeClassifier\n",
        "from sklearn.multioutput import MultiOutputRegressor\n",
        "from sklearn.model_selection import train_test_split,GridSearchCV\n",
        "from sklearn.metrics import make_scorer, mean_squared_error\n",
        "import matplotlib.pyplot as plt\n",
        "pd.set_option('display.max_rows', 100)\n"
      ]
    },
    {
      "cell_type": "markdown",
      "metadata": {
        "id": "MykEvUi6d45V"
      },
      "source": [
        "# 1: Project Overview\n",
        "The mission of this project is to construct a sophisticated data science workflow aimed at precisely predicting the locational coordinates of particle interactions within a Resistive Silicon Detector (RSD) – a pivotal instrument in the realm of particle physics. The RSD features a two-dimensional interface equipped with twelve intricately designed metallic pads, each responsible for signal detection when particles traverse the detector's plane. Every particle event is marked by a distinct signal profile captured by these pads. The central challenge and primary objective of our endeavor is to create a robust predictive model that accurately pinpoints the (x, y) coordinates where each particle event occurs on the RSD, utilizing the detailed signal data procured from the detector pads. This model aspires to enhance the precision of event localization within the RSD, thereby contributing valuable insights to particle physics research."
      ]
    },
    {
      "cell_type": "markdown",
      "metadata": {
        "id": "Qw9c8WCheEXX"
      },
      "source": [
        "# 2: Data Loading and Initial Setup\n",
        "\n",
        "In this section, we configure the environment to display a sufficient number of rows for data examination. We then mount the Google Drive to access the project dataset and load it into a pandas DataFrame for subsequent analysis."
      ]
    },
    {
      "cell_type": "code",
      "execution_count": 3,
      "metadata": {
        "colab": {
          "base_uri": "https://localhost:8080/",
          "height": 273
        },
        "id": "qFkbebaNeJbv",
        "outputId": "1f83edc1-aaeb-403c-fc1d-7eb24cd8d7ff"
      },
      "outputs": [
        {
          "output_type": "stream",
          "name": "stdout",
          "text": [
            "Mounted at /content/drive\n"
          ]
        },
        {
          "output_type": "execute_result",
          "data": {
            "text/plain": [
              "       x      y   pmax[0]  negpmax[0]   area[0]     tmax[0]    rms[0]  \\\n",
              "0  200.0  200.0  4.066907  -17.690173  2.847932    0.600000  2.007042   \n",
              "1  200.0  200.0  5.916801   -4.717111  5.792778   79.765174  1.564535   \n",
              "2  200.0  200.0  4.286652   -5.316132  2.356390   74.600000  1.404622   \n",
              "3  200.0  200.0  4.003635   -4.617459  2.189005   43.000000  1.512162   \n",
              "4  200.0  200.0  4.448146   -4.848743  3.997002  196.667482  1.101113   \n",
              "\n",
              "    pmax[1]  negpmax[1]   area[1]  ...    pmax[16]  negpmax[16]    area[16]  \\\n",
              "0  5.409161  -17.721210  4.538778  ...  607.109118   -36.282996  583.899899   \n",
              "1  4.414289   -4.736827  3.720435  ...  630.348007   -39.715988  580.042799   \n",
              "2  4.567191   -5.985437  3.490490  ...  613.880342   -40.679678  580.407491   \n",
              "3  5.019058   -4.229949  6.786200  ...  600.714957   -43.206601  579.882635   \n",
              "4  3.250262   -5.783587  2.449456  ...  609.723785   -43.570892  590.156125   \n",
              "\n",
              "    tmax[16]   rms[16]    pmax[17]  negpmax[17]    area[17]   tmax[17]  \\\n",
              "0  72.373094  0.374498  614.916861   -39.848523  591.852768  72.331028   \n",
              "1  71.029155  0.403258  624.950701   -41.266681  586.569646  71.089058   \n",
              "2  71.892264  0.568777  596.437125   -42.712286  574.091695  71.943934   \n",
              "3  72.357388  0.255483  591.763739   -50.681940  584.099483  72.333282   \n",
              "4  71.249130  0.413855  606.917023   -49.923819  584.316142  71.242904   \n",
              "\n",
              "    rms[17]  \n",
              "0  0.405595  \n",
              "1  0.405890  \n",
              "2  0.498019  \n",
              "3  0.336454  \n",
              "4  0.293824  \n",
              "\n",
              "[5 rows x 92 columns]"
            ],
            "text/html": [
              "\n",
              "  <div id=\"df-9989cb09-f727-442d-8198-71cac9aad227\" class=\"colab-df-container\">\n",
              "    <div>\n",
              "<style scoped>\n",
              "    .dataframe tbody tr th:only-of-type {\n",
              "        vertical-align: middle;\n",
              "    }\n",
              "\n",
              "    .dataframe tbody tr th {\n",
              "        vertical-align: top;\n",
              "    }\n",
              "\n",
              "    .dataframe thead th {\n",
              "        text-align: right;\n",
              "    }\n",
              "</style>\n",
              "<table border=\"1\" class=\"dataframe\">\n",
              "  <thead>\n",
              "    <tr style=\"text-align: right;\">\n",
              "      <th></th>\n",
              "      <th>x</th>\n",
              "      <th>y</th>\n",
              "      <th>pmax[0]</th>\n",
              "      <th>negpmax[0]</th>\n",
              "      <th>area[0]</th>\n",
              "      <th>tmax[0]</th>\n",
              "      <th>rms[0]</th>\n",
              "      <th>pmax[1]</th>\n",
              "      <th>negpmax[1]</th>\n",
              "      <th>area[1]</th>\n",
              "      <th>...</th>\n",
              "      <th>pmax[16]</th>\n",
              "      <th>negpmax[16]</th>\n",
              "      <th>area[16]</th>\n",
              "      <th>tmax[16]</th>\n",
              "      <th>rms[16]</th>\n",
              "      <th>pmax[17]</th>\n",
              "      <th>negpmax[17]</th>\n",
              "      <th>area[17]</th>\n",
              "      <th>tmax[17]</th>\n",
              "      <th>rms[17]</th>\n",
              "    </tr>\n",
              "  </thead>\n",
              "  <tbody>\n",
              "    <tr>\n",
              "      <th>0</th>\n",
              "      <td>200.0</td>\n",
              "      <td>200.0</td>\n",
              "      <td>4.066907</td>\n",
              "      <td>-17.690173</td>\n",
              "      <td>2.847932</td>\n",
              "      <td>0.600000</td>\n",
              "      <td>2.007042</td>\n",
              "      <td>5.409161</td>\n",
              "      <td>-17.721210</td>\n",
              "      <td>4.538778</td>\n",
              "      <td>...</td>\n",
              "      <td>607.109118</td>\n",
              "      <td>-36.282996</td>\n",
              "      <td>583.899899</td>\n",
              "      <td>72.373094</td>\n",
              "      <td>0.374498</td>\n",
              "      <td>614.916861</td>\n",
              "      <td>-39.848523</td>\n",
              "      <td>591.852768</td>\n",
              "      <td>72.331028</td>\n",
              "      <td>0.405595</td>\n",
              "    </tr>\n",
              "    <tr>\n",
              "      <th>1</th>\n",
              "      <td>200.0</td>\n",
              "      <td>200.0</td>\n",
              "      <td>5.916801</td>\n",
              "      <td>-4.717111</td>\n",
              "      <td>5.792778</td>\n",
              "      <td>79.765174</td>\n",
              "      <td>1.564535</td>\n",
              "      <td>4.414289</td>\n",
              "      <td>-4.736827</td>\n",
              "      <td>3.720435</td>\n",
              "      <td>...</td>\n",
              "      <td>630.348007</td>\n",
              "      <td>-39.715988</td>\n",
              "      <td>580.042799</td>\n",
              "      <td>71.029155</td>\n",
              "      <td>0.403258</td>\n",
              "      <td>624.950701</td>\n",
              "      <td>-41.266681</td>\n",
              "      <td>586.569646</td>\n",
              "      <td>71.089058</td>\n",
              "      <td>0.405890</td>\n",
              "    </tr>\n",
              "    <tr>\n",
              "      <th>2</th>\n",
              "      <td>200.0</td>\n",
              "      <td>200.0</td>\n",
              "      <td>4.286652</td>\n",
              "      <td>-5.316132</td>\n",
              "      <td>2.356390</td>\n",
              "      <td>74.600000</td>\n",
              "      <td>1.404622</td>\n",
              "      <td>4.567191</td>\n",
              "      <td>-5.985437</td>\n",
              "      <td>3.490490</td>\n",
              "      <td>...</td>\n",
              "      <td>613.880342</td>\n",
              "      <td>-40.679678</td>\n",
              "      <td>580.407491</td>\n",
              "      <td>71.892264</td>\n",
              "      <td>0.568777</td>\n",
              "      <td>596.437125</td>\n",
              "      <td>-42.712286</td>\n",
              "      <td>574.091695</td>\n",
              "      <td>71.943934</td>\n",
              "      <td>0.498019</td>\n",
              "    </tr>\n",
              "    <tr>\n",
              "      <th>3</th>\n",
              "      <td>200.0</td>\n",
              "      <td>200.0</td>\n",
              "      <td>4.003635</td>\n",
              "      <td>-4.617459</td>\n",
              "      <td>2.189005</td>\n",
              "      <td>43.000000</td>\n",
              "      <td>1.512162</td>\n",
              "      <td>5.019058</td>\n",
              "      <td>-4.229949</td>\n",
              "      <td>6.786200</td>\n",
              "      <td>...</td>\n",
              "      <td>600.714957</td>\n",
              "      <td>-43.206601</td>\n",
              "      <td>579.882635</td>\n",
              "      <td>72.357388</td>\n",
              "      <td>0.255483</td>\n",
              "      <td>591.763739</td>\n",
              "      <td>-50.681940</td>\n",
              "      <td>584.099483</td>\n",
              "      <td>72.333282</td>\n",
              "      <td>0.336454</td>\n",
              "    </tr>\n",
              "    <tr>\n",
              "      <th>4</th>\n",
              "      <td>200.0</td>\n",
              "      <td>200.0</td>\n",
              "      <td>4.448146</td>\n",
              "      <td>-4.848743</td>\n",
              "      <td>3.997002</td>\n",
              "      <td>196.667482</td>\n",
              "      <td>1.101113</td>\n",
              "      <td>3.250262</td>\n",
              "      <td>-5.783587</td>\n",
              "      <td>2.449456</td>\n",
              "      <td>...</td>\n",
              "      <td>609.723785</td>\n",
              "      <td>-43.570892</td>\n",
              "      <td>590.156125</td>\n",
              "      <td>71.249130</td>\n",
              "      <td>0.413855</td>\n",
              "      <td>606.917023</td>\n",
              "      <td>-49.923819</td>\n",
              "      <td>584.316142</td>\n",
              "      <td>71.242904</td>\n",
              "      <td>0.293824</td>\n",
              "    </tr>\n",
              "  </tbody>\n",
              "</table>\n",
              "<p>5 rows × 92 columns</p>\n",
              "</div>\n",
              "    <div class=\"colab-df-buttons\">\n",
              "\n",
              "  <div class=\"colab-df-container\">\n",
              "    <button class=\"colab-df-convert\" onclick=\"convertToInteractive('df-9989cb09-f727-442d-8198-71cac9aad227')\"\n",
              "            title=\"Convert this dataframe to an interactive table.\"\n",
              "            style=\"display:none;\">\n",
              "\n",
              "  <svg xmlns=\"http://www.w3.org/2000/svg\" height=\"24px\" viewBox=\"0 -960 960 960\">\n",
              "    <path d=\"M120-120v-720h720v720H120Zm60-500h600v-160H180v160Zm220 220h160v-160H400v160Zm0 220h160v-160H400v160ZM180-400h160v-160H180v160Zm440 0h160v-160H620v160ZM180-180h160v-160H180v160Zm440 0h160v-160H620v160Z\"/>\n",
              "  </svg>\n",
              "    </button>\n",
              "\n",
              "  <style>\n",
              "    .colab-df-container {\n",
              "      display:flex;\n",
              "      gap: 12px;\n",
              "    }\n",
              "\n",
              "    .colab-df-convert {\n",
              "      background-color: #E8F0FE;\n",
              "      border: none;\n",
              "      border-radius: 50%;\n",
              "      cursor: pointer;\n",
              "      display: none;\n",
              "      fill: #1967D2;\n",
              "      height: 32px;\n",
              "      padding: 0 0 0 0;\n",
              "      width: 32px;\n",
              "    }\n",
              "\n",
              "    .colab-df-convert:hover {\n",
              "      background-color: #E2EBFA;\n",
              "      box-shadow: 0px 1px 2px rgba(60, 64, 67, 0.3), 0px 1px 3px 1px rgba(60, 64, 67, 0.15);\n",
              "      fill: #174EA6;\n",
              "    }\n",
              "\n",
              "    .colab-df-buttons div {\n",
              "      margin-bottom: 4px;\n",
              "    }\n",
              "\n",
              "    [theme=dark] .colab-df-convert {\n",
              "      background-color: #3B4455;\n",
              "      fill: #D2E3FC;\n",
              "    }\n",
              "\n",
              "    [theme=dark] .colab-df-convert:hover {\n",
              "      background-color: #434B5C;\n",
              "      box-shadow: 0px 1px 3px 1px rgba(0, 0, 0, 0.15);\n",
              "      filter: drop-shadow(0px 1px 2px rgba(0, 0, 0, 0.3));\n",
              "      fill: #FFFFFF;\n",
              "    }\n",
              "  </style>\n",
              "\n",
              "    <script>\n",
              "      const buttonEl =\n",
              "        document.querySelector('#df-9989cb09-f727-442d-8198-71cac9aad227 button.colab-df-convert');\n",
              "      buttonEl.style.display =\n",
              "        google.colab.kernel.accessAllowed ? 'block' : 'none';\n",
              "\n",
              "      async function convertToInteractive(key) {\n",
              "        const element = document.querySelector('#df-9989cb09-f727-442d-8198-71cac9aad227');\n",
              "        const dataTable =\n",
              "          await google.colab.kernel.invokeFunction('convertToInteractive',\n",
              "                                                    [key], {});\n",
              "        if (!dataTable) return;\n",
              "\n",
              "        const docLinkHtml = 'Like what you see? Visit the ' +\n",
              "          '<a target=\"_blank\" href=https://colab.research.google.com/notebooks/data_table.ipynb>data table notebook</a>'\n",
              "          + ' to learn more about interactive tables.';\n",
              "        element.innerHTML = '';\n",
              "        dataTable['output_type'] = 'display_data';\n",
              "        await google.colab.output.renderOutput(dataTable, element);\n",
              "        const docLink = document.createElement('div');\n",
              "        docLink.innerHTML = docLinkHtml;\n",
              "        element.appendChild(docLink);\n",
              "      }\n",
              "    </script>\n",
              "  </div>\n",
              "\n",
              "\n",
              "<div id=\"df-73c2712b-5f97-49b0-9aeb-e337fdda0bfc\">\n",
              "  <button class=\"colab-df-quickchart\" onclick=\"quickchart('df-73c2712b-5f97-49b0-9aeb-e337fdda0bfc')\"\n",
              "            title=\"Suggest charts\"\n",
              "            style=\"display:none;\">\n",
              "\n",
              "<svg xmlns=\"http://www.w3.org/2000/svg\" height=\"24px\"viewBox=\"0 0 24 24\"\n",
              "     width=\"24px\">\n",
              "    <g>\n",
              "        <path d=\"M19 3H5c-1.1 0-2 .9-2 2v14c0 1.1.9 2 2 2h14c1.1 0 2-.9 2-2V5c0-1.1-.9-2-2-2zM9 17H7v-7h2v7zm4 0h-2V7h2v10zm4 0h-2v-4h2v4z\"/>\n",
              "    </g>\n",
              "</svg>\n",
              "  </button>\n",
              "\n",
              "<style>\n",
              "  .colab-df-quickchart {\n",
              "      --bg-color: #E8F0FE;\n",
              "      --fill-color: #1967D2;\n",
              "      --hover-bg-color: #E2EBFA;\n",
              "      --hover-fill-color: #174EA6;\n",
              "      --disabled-fill-color: #AAA;\n",
              "      --disabled-bg-color: #DDD;\n",
              "  }\n",
              "\n",
              "  [theme=dark] .colab-df-quickchart {\n",
              "      --bg-color: #3B4455;\n",
              "      --fill-color: #D2E3FC;\n",
              "      --hover-bg-color: #434B5C;\n",
              "      --hover-fill-color: #FFFFFF;\n",
              "      --disabled-bg-color: #3B4455;\n",
              "      --disabled-fill-color: #666;\n",
              "  }\n",
              "\n",
              "  .colab-df-quickchart {\n",
              "    background-color: var(--bg-color);\n",
              "    border: none;\n",
              "    border-radius: 50%;\n",
              "    cursor: pointer;\n",
              "    display: none;\n",
              "    fill: var(--fill-color);\n",
              "    height: 32px;\n",
              "    padding: 0;\n",
              "    width: 32px;\n",
              "  }\n",
              "\n",
              "  .colab-df-quickchart:hover {\n",
              "    background-color: var(--hover-bg-color);\n",
              "    box-shadow: 0 1px 2px rgba(60, 64, 67, 0.3), 0 1px 3px 1px rgba(60, 64, 67, 0.15);\n",
              "    fill: var(--button-hover-fill-color);\n",
              "  }\n",
              "\n",
              "  .colab-df-quickchart-complete:disabled,\n",
              "  .colab-df-quickchart-complete:disabled:hover {\n",
              "    background-color: var(--disabled-bg-color);\n",
              "    fill: var(--disabled-fill-color);\n",
              "    box-shadow: none;\n",
              "  }\n",
              "\n",
              "  .colab-df-spinner {\n",
              "    border: 2px solid var(--fill-color);\n",
              "    border-color: transparent;\n",
              "    border-bottom-color: var(--fill-color);\n",
              "    animation:\n",
              "      spin 1s steps(1) infinite;\n",
              "  }\n",
              "\n",
              "  @keyframes spin {\n",
              "    0% {\n",
              "      border-color: transparent;\n",
              "      border-bottom-color: var(--fill-color);\n",
              "      border-left-color: var(--fill-color);\n",
              "    }\n",
              "    20% {\n",
              "      border-color: transparent;\n",
              "      border-left-color: var(--fill-color);\n",
              "      border-top-color: var(--fill-color);\n",
              "    }\n",
              "    30% {\n",
              "      border-color: transparent;\n",
              "      border-left-color: var(--fill-color);\n",
              "      border-top-color: var(--fill-color);\n",
              "      border-right-color: var(--fill-color);\n",
              "    }\n",
              "    40% {\n",
              "      border-color: transparent;\n",
              "      border-right-color: var(--fill-color);\n",
              "      border-top-color: var(--fill-color);\n",
              "    }\n",
              "    60% {\n",
              "      border-color: transparent;\n",
              "      border-right-color: var(--fill-color);\n",
              "    }\n",
              "    80% {\n",
              "      border-color: transparent;\n",
              "      border-right-color: var(--fill-color);\n",
              "      border-bottom-color: var(--fill-color);\n",
              "    }\n",
              "    90% {\n",
              "      border-color: transparent;\n",
              "      border-bottom-color: var(--fill-color);\n",
              "    }\n",
              "  }\n",
              "</style>\n",
              "\n",
              "  <script>\n",
              "    async function quickchart(key) {\n",
              "      const quickchartButtonEl =\n",
              "        document.querySelector('#' + key + ' button');\n",
              "      quickchartButtonEl.disabled = true;  // To prevent multiple clicks.\n",
              "      quickchartButtonEl.classList.add('colab-df-spinner');\n",
              "      try {\n",
              "        const charts = await google.colab.kernel.invokeFunction(\n",
              "            'suggestCharts', [key], {});\n",
              "      } catch (error) {\n",
              "        console.error('Error during call to suggestCharts:', error);\n",
              "      }\n",
              "      quickchartButtonEl.classList.remove('colab-df-spinner');\n",
              "      quickchartButtonEl.classList.add('colab-df-quickchart-complete');\n",
              "    }\n",
              "    (() => {\n",
              "      let quickchartButtonEl =\n",
              "        document.querySelector('#df-73c2712b-5f97-49b0-9aeb-e337fdda0bfc button');\n",
              "      quickchartButtonEl.style.display =\n",
              "        google.colab.kernel.accessAllowed ? 'block' : 'none';\n",
              "    })();\n",
              "  </script>\n",
              "</div>\n",
              "    </div>\n",
              "  </div>\n"
            ]
          },
          "metadata": {},
          "execution_count": 3
        }
      ],
      "source": [
        "# Setting the maximum number of rows pandas will display to 100 for better dataframe visibility\n",
        "pd.set_option('display.max_rows', 100)\n",
        "\n",
        "# Importing the Google Colab drive module and mountin the user's Google Drive to the Colab environment\n",
        "from google.colab import drive\n",
        "drive.mount('/content/drive')\n",
        "\n",
        "# Define the path to the dataset stored on Google Drive\n",
        "pdata_path = '/content/drive/MyDrive/DSL_2024/development.csv'\n",
        "\n",
        "# Load the dataset from the CSV file into a pandas DataFrame\n",
        "df = pd.read_csv(pdata_path)\n",
        "\n",
        "# Making a full copy of the original dataframe to preserve the raw data\n",
        "df_full = df.copy()\n",
        "\n",
        "# Display the first five rows of the dataframe to verify it loaded correctly\n",
        "df.head(5)"
      ]
    },
    {
      "cell_type": "code",
      "execution_count": 4,
      "metadata": {
        "colab": {
          "base_uri": "https://localhost:8080/"
        },
        "id": "kB9iCv2efkv6",
        "outputId": "f48ce878-ead3-4d2f-c52b-58523ca94fd4"
      },
      "outputs": [
        {
          "output_type": "execute_result",
          "data": {
            "text/plain": [
              "x              200.000000\n",
              "y              200.000000\n",
              "pmax[0]          4.448146\n",
              "negpmax[0]      -4.848743\n",
              "area[0]          3.997002\n",
              "tmax[0]        196.667482\n",
              "rms[0]           1.101113\n",
              "pmax[1]          3.250262\n",
              "negpmax[1]      -5.783587\n",
              "area[1]          2.449456\n",
              "tmax[1]        159.800000\n",
              "rms[1]           0.759515\n",
              "pmax[2]          4.736023\n",
              "negpmax[2]      -5.137939\n",
              "area[2]          4.211047\n",
              "tmax[2]         71.200000\n",
              "rms[2]           1.237268\n",
              "pmax[3]          5.123048\n",
              "negpmax[3]      -4.447104\n",
              "area[3]          4.377708\n",
              "tmax[3]         71.357237\n",
              "rms[3]           1.417505\n",
              "pmax[4]          3.026709\n",
              "negpmax[4]      -6.137964\n",
              "area[4]          1.423594\n",
              "tmax[4]          2.600000\n",
              "rms[4]           1.474896\n",
              "pmax[5]         12.557806\n",
              "negpmax[5]      -4.582629\n",
              "area[5]          9.222847\n",
              "tmax[5]         71.160201\n",
              "rms[5]           1.814520\n",
              "pmax[6]          6.115046\n",
              "negpmax[6]      -4.172168\n",
              "area[6]          4.218594\n",
              "tmax[6]         70.759682\n",
              "rms[6]           1.794109\n",
              "pmax[7]          4.456955\n",
              "negpmax[7]      -4.346878\n",
              "area[7]          2.842813\n",
              "tmax[7]        142.200000\n",
              "rms[7]           0.801273\n",
              "pmax[8]         25.261710\n",
              "negpmax[8]     -10.298044\n",
              "area[8]         11.949759\n",
              "tmax[8]         71.200000\n",
              "rms[8]           1.627493\n",
              "pmax[9]        106.109430\n",
              "negpmax[9]     -68.653479\n",
              "area[9]         49.846171\n",
              "tmax[9]         71.000000\n",
              "rms[9]           1.471771\n",
              "pmax[10]        42.202023\n",
              "negpmax[10]    -20.666324\n",
              "area[10]        21.795638\n",
              "tmax[10]        71.000000\n",
              "rms[10]          1.604495\n",
              "pmax[11]        13.956659\n",
              "negpmax[11]     -5.728705\n",
              "area[11]         7.386077\n",
              "tmax[11]        71.000000\n",
              "rms[11]          1.318873\n",
              "pmax[12]         3.991907\n",
              "negpmax[12]     -5.890051\n",
              "area[12]         3.002041\n",
              "tmax[12]       109.200000\n",
              "rms[12]          1.384048\n",
              "pmax[13]         8.721952\n",
              "negpmax[13]     -4.396436\n",
              "area[13]         9.127136\n",
              "tmax[13]        71.411535\n",
              "rms[13]          1.513988\n",
              "pmax[14]         4.483080\n",
              "negpmax[14]     -5.361823\n",
              "area[14]         3.366542\n",
              "tmax[14]       160.185705\n",
              "rms[14]          1.323621\n",
              "pmax[15]       137.139115\n",
              "negpmax[15]     -5.357361\n",
              "area[15]       147.372754\n",
              "tmax[15]        71.212440\n",
              "rms[15]          1.480449\n",
              "pmax[16]       609.723785\n",
              "negpmax[16]    -43.570892\n",
              "area[16]       590.156125\n",
              "tmax[16]        71.249130\n",
              "rms[16]          0.413855\n",
              "pmax[17]       606.917023\n",
              "negpmax[17]    -49.923819\n",
              "area[17]       584.316142\n",
              "tmax[17]        71.242904\n",
              "rms[17]          0.293824\n",
              "Name: 4, dtype: float64"
            ]
          },
          "metadata": {},
          "execution_count": 4
        }
      ],
      "source": [
        "# Display the data for the fourth event (index 4) in the DataFrame to inspect the information for a single particle event\n",
        "df.iloc[4]"
      ]
    },
    {
      "cell_type": "code",
      "execution_count": 5,
      "metadata": {
        "colab": {
          "base_uri": "https://localhost:8080/"
        },
        "id": "5CQnU261flWw",
        "outputId": "d6ce0758-63ab-4792-e8ba-3206ca551347"
      },
      "outputs": [
        {
          "output_type": "stream",
          "name": "stdout",
          "text": [
            "<class 'pandas.core.frame.DataFrame'>\n",
            "RangeIndex: 385500 entries, 0 to 385499\n",
            "Data columns (total 92 columns):\n",
            " #   Column       Non-Null Count   Dtype  \n",
            "---  ------       --------------   -----  \n",
            " 0   x            385500 non-null  float64\n",
            " 1   y            385500 non-null  float64\n",
            " 2   pmax[0]      385500 non-null  float64\n",
            " 3   negpmax[0]   385500 non-null  float64\n",
            " 4   area[0]      385500 non-null  float64\n",
            " 5   tmax[0]      385500 non-null  float64\n",
            " 6   rms[0]       385500 non-null  float64\n",
            " 7   pmax[1]      385500 non-null  float64\n",
            " 8   negpmax[1]   385500 non-null  float64\n",
            " 9   area[1]      385500 non-null  float64\n",
            " 10  tmax[1]      385500 non-null  float64\n",
            " 11  rms[1]       385500 non-null  float64\n",
            " 12  pmax[2]      385500 non-null  float64\n",
            " 13  negpmax[2]   385500 non-null  float64\n",
            " 14  area[2]      385500 non-null  float64\n",
            " 15  tmax[2]      385500 non-null  float64\n",
            " 16  rms[2]       385500 non-null  float64\n",
            " 17  pmax[3]      385500 non-null  float64\n",
            " 18  negpmax[3]   385500 non-null  float64\n",
            " 19  area[3]      385500 non-null  float64\n",
            " 20  tmax[3]      385500 non-null  float64\n",
            " 21  rms[3]       385500 non-null  float64\n",
            " 22  pmax[4]      385500 non-null  float64\n",
            " 23  negpmax[4]   385500 non-null  float64\n",
            " 24  area[4]      385500 non-null  float64\n",
            " 25  tmax[4]      385500 non-null  float64\n",
            " 26  rms[4]       385500 non-null  float64\n",
            " 27  pmax[5]      385500 non-null  float64\n",
            " 28  negpmax[5]   385500 non-null  float64\n",
            " 29  area[5]      385500 non-null  float64\n",
            " 30  tmax[5]      385500 non-null  float64\n",
            " 31  rms[5]       385500 non-null  float64\n",
            " 32  pmax[6]      385500 non-null  float64\n",
            " 33  negpmax[6]   385500 non-null  float64\n",
            " 34  area[6]      385500 non-null  float64\n",
            " 35  tmax[6]      385500 non-null  float64\n",
            " 36  rms[6]       385500 non-null  float64\n",
            " 37  pmax[7]      385500 non-null  float64\n",
            " 38  negpmax[7]   385500 non-null  float64\n",
            " 39  area[7]      385500 non-null  float64\n",
            " 40  tmax[7]      385500 non-null  float64\n",
            " 41  rms[7]       385500 non-null  float64\n",
            " 42  pmax[8]      385500 non-null  float64\n",
            " 43  negpmax[8]   385500 non-null  float64\n",
            " 44  area[8]      385500 non-null  float64\n",
            " 45  tmax[8]      385500 non-null  float64\n",
            " 46  rms[8]       385500 non-null  float64\n",
            " 47  pmax[9]      385500 non-null  float64\n",
            " 48  negpmax[9]   385500 non-null  float64\n",
            " 49  area[9]      385500 non-null  float64\n",
            " 50  tmax[9]      385500 non-null  float64\n",
            " 51  rms[9]       385500 non-null  float64\n",
            " 52  pmax[10]     385500 non-null  float64\n",
            " 53  negpmax[10]  385500 non-null  float64\n",
            " 54  area[10]     385500 non-null  float64\n",
            " 55  tmax[10]     385500 non-null  float64\n",
            " 56  rms[10]      385500 non-null  float64\n",
            " 57  pmax[11]     385500 non-null  float64\n",
            " 58  negpmax[11]  385500 non-null  float64\n",
            " 59  area[11]     385500 non-null  float64\n",
            " 60  tmax[11]     385500 non-null  float64\n",
            " 61  rms[11]      385500 non-null  float64\n",
            " 62  pmax[12]     385500 non-null  float64\n",
            " 63  negpmax[12]  385500 non-null  float64\n",
            " 64  area[12]     385500 non-null  float64\n",
            " 65  tmax[12]     385500 non-null  float64\n",
            " 66  rms[12]      385500 non-null  float64\n",
            " 67  pmax[13]     385500 non-null  float64\n",
            " 68  negpmax[13]  385500 non-null  float64\n",
            " 69  area[13]     385500 non-null  float64\n",
            " 70  tmax[13]     385500 non-null  float64\n",
            " 71  rms[13]      385500 non-null  float64\n",
            " 72  pmax[14]     385500 non-null  float64\n",
            " 73  negpmax[14]  385500 non-null  float64\n",
            " 74  area[14]     385500 non-null  float64\n",
            " 75  tmax[14]     385500 non-null  float64\n",
            " 76  rms[14]      385500 non-null  float64\n",
            " 77  pmax[15]     385500 non-null  float64\n",
            " 78  negpmax[15]  385500 non-null  float64\n",
            " 79  area[15]     385500 non-null  float64\n",
            " 80  tmax[15]     385500 non-null  float64\n",
            " 81  rms[15]      385500 non-null  float64\n",
            " 82  pmax[16]     385500 non-null  float64\n",
            " 83  negpmax[16]  385500 non-null  float64\n",
            " 84  area[16]     385500 non-null  float64\n",
            " 85  tmax[16]     385500 non-null  float64\n",
            " 86  rms[16]      385500 non-null  float64\n",
            " 87  pmax[17]     385500 non-null  float64\n",
            " 88  negpmax[17]  385500 non-null  float64\n",
            " 89  area[17]     385500 non-null  float64\n",
            " 90  tmax[17]     385500 non-null  float64\n",
            " 91  rms[17]      385500 non-null  float64\n",
            "dtypes: float64(92)\n",
            "memory usage: 270.6 MB\n"
          ]
        }
      ],
      "source": [
        "# Display a concise summary of the DataFrame\n",
        "df.info()"
      ]
    },
    {
      "cell_type": "code",
      "execution_count": 6,
      "metadata": {
        "colab": {
          "base_uri": "https://localhost:8080/"
        },
        "id": "vc5NljNUfp4A",
        "outputId": "0f072c64-aea3-43ed-afd9-277fcc393d25"
      },
      "outputs": [
        {
          "output_type": "execute_result",
          "data": {
            "text/plain": [
              "x              False\n",
              "y              False\n",
              "pmax[0]        False\n",
              "negpmax[0]     False\n",
              "area[0]        False\n",
              "tmax[0]        False\n",
              "rms[0]         False\n",
              "pmax[1]        False\n",
              "negpmax[1]     False\n",
              "area[1]        False\n",
              "tmax[1]        False\n",
              "rms[1]         False\n",
              "pmax[2]        False\n",
              "negpmax[2]     False\n",
              "area[2]        False\n",
              "tmax[2]        False\n",
              "rms[2]         False\n",
              "pmax[3]        False\n",
              "negpmax[3]     False\n",
              "area[3]        False\n",
              "tmax[3]        False\n",
              "rms[3]         False\n",
              "pmax[4]        False\n",
              "negpmax[4]     False\n",
              "area[4]        False\n",
              "tmax[4]        False\n",
              "rms[4]         False\n",
              "pmax[5]        False\n",
              "negpmax[5]     False\n",
              "area[5]        False\n",
              "tmax[5]        False\n",
              "rms[5]         False\n",
              "pmax[6]        False\n",
              "negpmax[6]     False\n",
              "area[6]        False\n",
              "tmax[6]        False\n",
              "rms[6]         False\n",
              "pmax[7]        False\n",
              "negpmax[7]     False\n",
              "area[7]        False\n",
              "tmax[7]        False\n",
              "rms[7]         False\n",
              "pmax[8]        False\n",
              "negpmax[8]     False\n",
              "area[8]        False\n",
              "tmax[8]        False\n",
              "rms[8]         False\n",
              "pmax[9]        False\n",
              "negpmax[9]     False\n",
              "area[9]        False\n",
              "tmax[9]        False\n",
              "rms[9]         False\n",
              "pmax[10]       False\n",
              "negpmax[10]    False\n",
              "area[10]       False\n",
              "tmax[10]       False\n",
              "rms[10]        False\n",
              "pmax[11]       False\n",
              "negpmax[11]    False\n",
              "area[11]       False\n",
              "tmax[11]       False\n",
              "rms[11]        False\n",
              "pmax[12]       False\n",
              "negpmax[12]    False\n",
              "area[12]       False\n",
              "tmax[12]       False\n",
              "rms[12]        False\n",
              "pmax[13]       False\n",
              "negpmax[13]    False\n",
              "area[13]       False\n",
              "tmax[13]       False\n",
              "rms[13]        False\n",
              "pmax[14]       False\n",
              "negpmax[14]    False\n",
              "area[14]       False\n",
              "tmax[14]       False\n",
              "rms[14]        False\n",
              "pmax[15]       False\n",
              "negpmax[15]    False\n",
              "area[15]       False\n",
              "tmax[15]       False\n",
              "rms[15]        False\n",
              "pmax[16]       False\n",
              "negpmax[16]    False\n",
              "area[16]       False\n",
              "tmax[16]       False\n",
              "rms[16]        False\n",
              "pmax[17]       False\n",
              "negpmax[17]    False\n",
              "area[17]       False\n",
              "tmax[17]       False\n",
              "rms[17]        False\n",
              "dtype: bool"
            ]
          },
          "metadata": {},
          "execution_count": 6
        }
      ],
      "source": [
        "# Check for missing values in each column of the DataFrame\n",
        "# 'isna()' identifies the NaN values, and 'any(axis=0)' checks for at least one NaN in each column\n",
        "df.isna().any(axis=0)"
      ]
    },
    {
      "cell_type": "markdown",
      "metadata": {
        "id": "pqaqbgGbf0gv"
      },
      "source": [
        "All features in the dataset are complete without any missing entries. Additionally, every feature is characterized by float64 data type. This suggests minimal or potentially no requirement for extensive data preparation steps."
      ]
    },
    {
      "cell_type": "markdown",
      "metadata": {
        "id": "495jD8rof1YV"
      },
      "source": [
        "# Assessing for Duplicate Entries in the Dataset"
      ]
    },
    {
      "cell_type": "markdown",
      "metadata": {
        "id": "K6FPNcEHf7aI"
      },
      "source": [
        "In this section, we will investigate the presence of any duplicate records in the dataset. Identifying and handling duplicates is crucial for maintaining the integrity of our analysis and ensuring the accuracy of our model"
      ]
    },
    {
      "cell_type": "code",
      "execution_count": 7,
      "metadata": {
        "colab": {
          "base_uri": "https://localhost:8080/"
        },
        "id": "44UlgA0pf4x2",
        "outputId": "d186291c-cedb-4ba6-ebf4-fe1a63d07712"
      },
      "outputs": [
        {
          "output_type": "stream",
          "name": "stdout",
          "text": [
            "No duplicates found in the dataset, ready to proceed.\n"
          ]
        }
      ],
      "source": [
        "# Identify any duplicate rows in the DataFrame\n",
        "duplicate_entries = df.duplicated()\n",
        "\n",
        "# Conditional check to determine if duplicates exist\n",
        "if duplicate_entries.any():\n",
        "    print('Duplicates detected in the dataset, action required for resolution.')\n",
        "else:\n",
        "    print('No duplicates found in the dataset, ready to proceed.')"
      ]
    },
    {
      "cell_type": "code",
      "execution_count": 8,
      "metadata": {
        "colab": {
          "base_uri": "https://localhost:8080/"
        },
        "id": "FWf0PnLpgAVk",
        "outputId": "a0af2ce1-2ab2-405e-f017-44cacde30011"
      },
      "outputs": [
        {
          "output_type": "stream",
          "name": "stdout",
          "text": [
            "Number of unique x positions: (81,)\n",
            "Number of unique y positions: (81,)\n"
          ]
        }
      ],
      "source": [
        "# Determine the number of unique values in the 'x' and 'y' columns\n",
        "unique_x_positions = df['x'].unique().shape\n",
        "unique_y_positions = df['y'].unique().shape\n",
        "\n",
        "# Print the number of unique x and y positions\n",
        "print(\"Number of unique x positions:\", unique_x_positions)\n",
        "print(\"Number of unique y positions:\", unique_y_positions)"
      ]
    },
    {
      "cell_type": "markdown",
      "metadata": {
        "id": "qzSIEORjgH59"
      },
      "source": [
        "The dataset contains 81 possible positions for the events in both x and y dimensions"
      ]
    },
    {
      "cell_type": "markdown",
      "metadata": {
        "id": "wu9aAApphT2m"
      },
      "source": [
        " # 3 :Advanced Feature Analysis: Statistical and Visual Exploration for Noise Reduction in Particle Event Data\n",
        "\n",
        " In this approach to feature analysis, we delve deeper into understanding and managing noisy data. By employing statistical analysis, we first assess the summary statistics of the pmax values across the 18 sensor pads, pinpointing any unusual variance or extremes that might indicate noise. Following this, we utilize advanced visualization techniques, specifically box plots, to offer a clearer view of the data's distribution, emphasizing outliers and data spread. Lastly, we conduct a correlation analysis with the target variables (x, y coordinates), which aids in discerning the relevance of each pad's signals to our predictive task. This comprehensive strategy not only identifies potential sources of noise but also guides us in refining our dataset for subsequent predictive modeling, ensuring accuracy and reliability in our particle event localization endeavor."
      ]
    },
    {
      "cell_type": "code",
      "execution_count": 9,
      "metadata": {
        "colab": {
          "base_uri": "https://localhost:8080/",
          "height": 1000
        },
        "id": "fcRY2xhzhgmi",
        "outputId": "a6c10f91-b96e-4d41-f845-eababbe16432"
      },
      "outputs": [
        {
          "output_type": "stream",
          "name": "stdout",
          "text": [
            "Summary Statistics for pmax values:\n",
            "              pmax[0]        pmax[1]        pmax[2]        pmax[3]  \\\n",
            "count  385500.000000  385500.000000  385500.000000  385500.000000   \n",
            "mean        4.866423      16.510543       8.784017      26.457888   \n",
            "std         1.481220      16.781018       7.692692      25.397517   \n",
            "min         1.394440       2.028134       1.799435       2.034311   \n",
            "25%         4.123941       5.619728       4.681271       9.327397   \n",
            "50%         4.668321      10.068513       5.714713      15.071468   \n",
            "75%         5.265888      19.031319       9.796498      36.166834   \n",
            "max        20.515415     106.649066      68.837366     136.658588   \n",
            "\n",
            "             pmax[4]        pmax[5]        pmax[6]        pmax[7]  \\\n",
            "count  385500.000000  385500.000000  385500.000000  385500.000000   \n",
            "mean       14.947826      39.333002      14.907669       4.849883   \n",
            "std        13.394484      27.899214      16.613431       1.487651   \n",
            "min         1.940271       2.476239       1.883002       1.591489   \n",
            "25%         5.744334      15.949420       5.402504       4.106779   \n",
            "50%        10.180335      28.257567       8.674725       4.649773   \n",
            "75%        17.985703      58.928515      16.197600       5.249033   \n",
            "max        90.635233     138.381650     128.199008      19.777481   \n",
            "\n",
            "             pmax[8]        pmax[9]       pmax[10]       pmax[11]  \\\n",
            "count  385500.000000  385500.000000  385500.000000  385500.000000   \n",
            "mean       20.503279      12.505530      37.827489      22.118955   \n",
            "std        20.175681      13.862611      30.010446      21.599092   \n",
            "min         1.440403       1.727530       2.533267       1.935126   \n",
            "25%         6.471845       4.919528      13.758305       7.904691   \n",
            "50%        12.660268       6.996239      23.506975      13.388216   \n",
            "75%        25.451260      13.679469      59.207650      26.453506   \n",
            "max       128.185635     115.566028     141.439844     134.464426   \n",
            "\n",
            "            pmax[12]       pmax[13]       pmax[14]       pmax[15]  \\\n",
            "count  385500.000000  385500.000000  385500.000000  385500.000000   \n",
            "mean        4.872721      41.233983      16.656853     104.181567   \n",
            "std         1.748889      27.992784      17.784631      16.031714   \n",
            "min         1.619556       2.727048       1.801639      49.502625   \n",
            "25%         4.045327      17.327409       5.720558      94.907836   \n",
            "50%         4.576996      33.571727      10.125145     102.724738   \n",
            "75%         5.171157      60.328537      18.720630     113.354999   \n",
            "max        20.501949     141.530914     115.792004     193.724947   \n",
            "\n",
            "            pmax[16]       pmax[17]  \n",
            "count  385500.000000  385500.000000  \n",
            "mean      608.650804     609.060121  \n",
            "std        13.723698      13.928735  \n",
            "min       451.502789     456.816620  \n",
            "25%       598.888989     599.390156  \n",
            "50%       607.190645     607.202368  \n",
            "75%       616.837596     617.313303  \n",
            "max       665.267443     675.052221  \n"
          ]
        },
        {
          "output_type": "display_data",
          "data": {
            "text/plain": [
              "<Figure size 1500x900 with 18 Axes>"
            ],
            "image/png": "[encoded data removed]"
          },
          "metadata": {}
        },
        {
          "output_type": "stream",
          "name": "stdout",
          "text": [
            "Correlation with target variables (x, y):\n",
            "                  x         y\n",
            "pmax[0]  -0.003647  0.013365\n",
            "pmax[1]   0.726619  0.307673\n",
            "pmax[2]   0.477606  0.516068\n",
            "pmax[3]   0.416501  0.703649\n",
            "pmax[4]  -0.247361  0.760833\n",
            "pmax[5]  -0.493251  0.548665\n",
            "pmax[6]  -0.569413  0.490734\n",
            "pmax[7]  -0.006498  0.015404\n",
            "pmax[8]  -0.779363 -0.086546\n",
            "pmax[9]  -0.545835 -0.490673\n",
            "pmax[10] -0.447803 -0.658605\n",
            "pmax[11]  0.361139 -0.714181\n",
            "pmax[12]  0.001926  0.001774\n",
            "pmax[13]  0.661260 -0.126507\n",
            "pmax[14]  0.679072 -0.366370\n",
            "pmax[15]  0.010714 -0.330274\n",
            "pmax[16]  0.012064  0.003557\n",
            "pmax[17]  0.014025 -0.002008\n",
            "x         1.000000  0.006282\n",
            "y         0.006282  1.000000\n"
          ]
        }
      ],
      "source": [
        "import seaborn as sns\n",
        "\n",
        "# Statistical Analysis of pmax Values\n",
        "pmax_stats = df[[f'pmax[{i}]' for i in range(18)]].describe()\n",
        "print(\"Summary Statistics for pmax values:\\n\", pmax_stats)\n",
        "\n",
        "# Advanced Visualization with Box Plots\n",
        "fig, axes = plt.subplots(nrows=3, ncols=6, figsize=(15, 9))\n",
        "for i in range(18):\n",
        "    row_index, col_index = divmod(i, 6)\n",
        "    sns.boxplot(y=df[f'pmax[{i}]'], ax=axes[row_index, col_index])\n",
        "    axes[row_index, col_index].set_title(f'pmax[{i}] Box Plot')\n",
        "plt.tight_layout()\n",
        "plt.show()\n",
        "\n",
        "# Correlation Analysis with Target Variables\n",
        "correlation_with_target = df[[f'pmax[{i}]' for i in range(18)] + ['x', 'y']].corr()\n",
        "print(\"Correlation with target variables (x, y):\\n\", correlation_with_target[['x', 'y']])\n"
      ]
    },
    {
      "cell_type": "markdown",
      "metadata": {
        "id": "iK6tbDjfirYr"
      },
      "source": [
        "In this data analysis step, we have identified certain pads that do not significantly contribute to the prediction of particle event locations. Pads [0, 7, 12, 15, 16, 17] exhibit low correlation with our target variables, 'x' and 'y', indicating a weak linear relationship. Furthermore, the pmax values for these pads, excluding pad 15, are uniformly distributed, suggesting that these features do not carry distinctive information about the particle events. Consequently, we have decided to exclude these pads from our dataset to streamline our feature set and enhance the predictive accuracy of our model. This careful selection of features is essential for building a robust and efficient predictive model."
      ]
    },
    {
      "cell_type": "markdown",
      "metadata": {
        "id": "G6fxfsUkjJFY"
      },
      "source": [
        " # Refinement and Feature Consolidation for Optimized Signal Analysis"
      ]
    },
    {
      "cell_type": "markdown",
      "metadata": {
        "id": "a6clExZojNcN"
      },
      "source": [
        "In this phase, we continue the data preparation process with a strategic emphasis on signal refinement. By selectively discarding less informative features, we concentrate on the salient 'pmax' and 'negpmax' values, particularly from pad 15 which has demonstrated unique predictive capabilities. Recognizing pad 15's distinctiveness, we engineer new features that encapsulate its relative signal strength compared to its neighboring pads. This not only cleanses our dataset of noise but also magnifies the potential insights from pad 15. The resulting refined dataset now presents a streamlined and potent basis for robust model development, laying the groundwork for enhanced predictive precision."
      ]
    },
    {
      "cell_type": "code",
      "execution_count": 10,
      "metadata": {
        "colab": {
          "base_uri": "https://localhost:8080/",
          "height": 255
        },
        "id": "IOsxIwCCjLKC",
        "outputId": "192cc2c2-2f12-49a8-cfbe-8f8e49d99c10"
      },
      "outputs": [
        {
          "output_type": "execute_result",
          "data": {
            "text/plain": [
              "       x      y   area[0]     tmax[0]    rms[0]   pmax[1]  negpmax[1]  \\\n",
              "0  200.0  200.0  2.847932    0.600000  2.007042  5.409161  -17.721210   \n",
              "1  200.0  200.0  5.792778   79.765174  1.564535  4.414289   -4.736827   \n",
              "2  200.0  200.0  2.356390   74.600000  1.404622  4.567191   -5.985437   \n",
              "3  200.0  200.0  2.189005   43.000000  1.512162  5.019058   -4.229949   \n",
              "4  200.0  200.0  3.997002  196.667482  1.101113  3.250262   -5.783587   \n",
              "\n",
              "    pmax[2]  negpmax[2]   pmax[3]  ...   tmax[15]   rms[15]    area[16]  \\\n",
              "0  6.084506  -19.892543  3.811328  ...  72.276594  1.196239  583.899899   \n",
              "1  4.507257   -3.787175  3.940369  ...  71.065221  1.534433  580.042799   \n",
              "2  5.384155   -3.948853  4.903412  ...  71.869933  1.010175  580.407491   \n",
              "3  4.165598   -5.576041  3.791672  ...  72.262946  1.283015  579.882635   \n",
              "4  4.736023   -5.137939  5.123048  ...  71.212440  1.480449  590.156125   \n",
              "\n",
              "    tmax[16]   rms[16]    area[17]   tmax[17]   rms[17]  \\\n",
              "0  72.373094  0.374498  591.852768  72.331028  0.405595   \n",
              "1  71.029155  0.403258  586.569646  71.089058  0.405890   \n",
              "2  71.892264  0.568777  574.091695  71.943934  0.498019   \n",
              "3  72.357388  0.255483  584.099483  72.333282  0.336454   \n",
              "4  71.249130  0.413855  584.316142  71.242904  0.293824   \n",
              "\n",
              "   pmax15_diff_neighbors  pmax15_ratio_neighbors  \n",
              "0             110.178203                3.791404  \n",
              "1             108.212636                3.656806  \n",
              "2             117.174403                4.226147  \n",
              "3             116.207814                4.259497  \n",
              "4              95.622726                3.303252  \n",
              "\n",
              "[5 rows x 48 columns]"
            ],
            "text/html": [
              "\n",
              "  <div id=\"df-b6acefec-5290-4f23-9883-f315be2d9e75\" class=\"colab-df-container\">\n",
              "    <div>\n",
              "<style scoped>\n",
              "    .dataframe tbody tr th:only-of-type {\n",
              "        vertical-align: middle;\n",
              "    }\n",
              "\n",
              "    .dataframe tbody tr th {\n",
              "        vertical-align: top;\n",
              "    }\n",
              "\n",
              "    .dataframe thead th {\n",
              "        text-align: right;\n",
              "    }\n",
              "</style>\n",
              "<table border=\"1\" class=\"dataframe\">\n",
              "  <thead>\n",
              "    <tr style=\"text-align: right;\">\n",
              "      <th></th>\n",
              "      <th>x</th>\n",
              "      <th>y</th>\n",
              "      <th>area[0]</th>\n",
              "      <th>tmax[0]</th>\n",
              "      <th>rms[0]</th>\n",
              "      <th>pmax[1]</th>\n",
              "      <th>negpmax[1]</th>\n",
              "      <th>pmax[2]</th>\n",
              "      <th>negpmax[2]</th>\n",
              "      <th>pmax[3]</th>\n",
              "      <th>...</th>\n",
              "      <th>tmax[15]</th>\n",
              "      <th>rms[15]</th>\n",
              "      <th>area[16]</th>\n",
              "      <th>tmax[16]</th>\n",
              "      <th>rms[16]</th>\n",
              "      <th>area[17]</th>\n",
              "      <th>tmax[17]</th>\n",
              "      <th>rms[17]</th>\n",
              "      <th>pmax15_diff_neighbors</th>\n",
              "      <th>pmax15_ratio_neighbors</th>\n",
              "    </tr>\n",
              "  </thead>\n",
              "  <tbody>\n",
              "    <tr>\n",
              "      <th>0</th>\n",
              "      <td>200.0</td>\n",
              "      <td>200.0</td>\n",
              "      <td>2.847932</td>\n",
              "      <td>0.600000</td>\n",
              "      <td>2.007042</td>\n",
              "      <td>5.409161</td>\n",
              "      <td>-17.721210</td>\n",
              "      <td>6.084506</td>\n",
              "      <td>-19.892543</td>\n",
              "      <td>3.811328</td>\n",
              "      <td>...</td>\n",
              "      <td>72.276594</td>\n",
              "      <td>1.196239</td>\n",
              "      <td>583.899899</td>\n",
              "      <td>72.373094</td>\n",
              "      <td>0.374498</td>\n",
              "      <td>591.852768</td>\n",
              "      <td>72.331028</td>\n",
              "      <td>0.405595</td>\n",
              "      <td>110.178203</td>\n",
              "      <td>3.791404</td>\n",
              "    </tr>\n",
              "    <tr>\n",
              "      <th>1</th>\n",
              "      <td>200.0</td>\n",
              "      <td>200.0</td>\n",
              "      <td>5.792778</td>\n",
              "      <td>79.765174</td>\n",
              "      <td>1.564535</td>\n",
              "      <td>4.414289</td>\n",
              "      <td>-4.736827</td>\n",
              "      <td>4.507257</td>\n",
              "      <td>-3.787175</td>\n",
              "      <td>3.940369</td>\n",
              "      <td>...</td>\n",
              "      <td>71.065221</td>\n",
              "      <td>1.534433</td>\n",
              "      <td>580.042799</td>\n",
              "      <td>71.029155</td>\n",
              "      <td>0.403258</td>\n",
              "      <td>586.569646</td>\n",
              "      <td>71.089058</td>\n",
              "      <td>0.405890</td>\n",
              "      <td>108.212636</td>\n",
              "      <td>3.656806</td>\n",
              "    </tr>\n",
              "    <tr>\n",
              "      <th>2</th>\n",
              "      <td>200.0</td>\n",
              "      <td>200.0</td>\n",
              "      <td>2.356390</td>\n",
              "      <td>74.600000</td>\n",
              "      <td>1.404622</td>\n",
              "      <td>4.567191</td>\n",
              "      <td>-5.985437</td>\n",
              "      <td>5.384155</td>\n",
              "      <td>-3.948853</td>\n",
              "      <td>4.903412</td>\n",
              "      <td>...</td>\n",
              "      <td>71.869933</td>\n",
              "      <td>1.010175</td>\n",
              "      <td>580.407491</td>\n",
              "      <td>71.892264</td>\n",
              "      <td>0.568777</td>\n",
              "      <td>574.091695</td>\n",
              "      <td>71.943934</td>\n",
              "      <td>0.498019</td>\n",
              "      <td>117.174403</td>\n",
              "      <td>4.226147</td>\n",
              "    </tr>\n",
              "    <tr>\n",
              "      <th>3</th>\n",
              "      <td>200.0</td>\n",
              "      <td>200.0</td>\n",
              "      <td>2.189005</td>\n",
              "      <td>43.000000</td>\n",
              "      <td>1.512162</td>\n",
              "      <td>5.019058</td>\n",
              "      <td>-4.229949</td>\n",
              "      <td>4.165598</td>\n",
              "      <td>-5.576041</td>\n",
              "      <td>3.791672</td>\n",
              "      <td>...</td>\n",
              "      <td>72.262946</td>\n",
              "      <td>1.283015</td>\n",
              "      <td>579.882635</td>\n",
              "      <td>72.357388</td>\n",
              "      <td>0.255483</td>\n",
              "      <td>584.099483</td>\n",
              "      <td>72.333282</td>\n",
              "      <td>0.336454</td>\n",
              "      <td>116.207814</td>\n",
              "      <td>4.259497</td>\n",
              "    </tr>\n",
              "    <tr>\n",
              "      <th>4</th>\n",
              "      <td>200.0</td>\n",
              "      <td>200.0</td>\n",
              "      <td>3.997002</td>\n",
              "      <td>196.667482</td>\n",
              "      <td>1.101113</td>\n",
              "      <td>3.250262</td>\n",
              "      <td>-5.783587</td>\n",
              "      <td>4.736023</td>\n",
              "      <td>-5.137939</td>\n",
              "      <td>5.123048</td>\n",
              "      <td>...</td>\n",
              "      <td>71.212440</td>\n",
              "      <td>1.480449</td>\n",
              "      <td>590.156125</td>\n",
              "      <td>71.249130</td>\n",
              "      <td>0.413855</td>\n",
              "      <td>584.316142</td>\n",
              "      <td>71.242904</td>\n",
              "      <td>0.293824</td>\n",
              "      <td>95.622726</td>\n",
              "      <td>3.303252</td>\n",
              "    </tr>\n",
              "  </tbody>\n",
              "</table>\n",
              "<p>5 rows × 48 columns</p>\n",
              "</div>\n",
              "    <div class=\"colab-df-buttons\">\n",
              "\n",
              "  <div class=\"colab-df-container\">\n",
              "    <button class=\"colab-df-convert\" onclick=\"convertToInteractive('df-b6acefec-5290-4f23-9883-f315be2d9e75')\"\n",
              "            title=\"Convert this dataframe to an interactive table.\"\n",
              "            style=\"display:none;\">\n",
              "\n",
              "  <svg xmlns=\"http://www.w3.org/2000/svg\" height=\"24px\" viewBox=\"0 -960 960 960\">\n",
              "    <path d=\"M120-120v-720h720v720H120Zm60-500h600v-160H180v160Zm220 220h160v-160H400v160Zm0 220h160v-160H400v160ZM180-400h160v-160H180v160Zm440 0h160v-160H620v160ZM180-180h160v-160H180v160Zm440 0h160v-160H620v160Z\"/>\n",
              "  </svg>\n",
              "    </button>\n",
              "\n",
              "  <style>\n",
              "    .colab-df-container {\n",
              "      display:flex;\n",
              "      gap: 12px;\n",
              "    }\n",
              "\n",
              "    .colab-df-convert {\n",
              "      background-color: #E8F0FE;\n",
              "      border: none;\n",
              "      border-radius: 50%;\n",
              "      cursor: pointer;\n",
              "      display: none;\n",
              "      fill: #1967D2;\n",
              "      height: 32px;\n",
              "      padding: 0 0 0 0;\n",
              "      width: 32px;\n",
              "    }\n",
              "\n",
              "    .colab-df-convert:hover {\n",
              "      background-color: #E2EBFA;\n",
              "      box-shadow: 0px 1px 2px rgba(60, 64, 67, 0.3), 0px 1px 3px 1px rgba(60, 64, 67, 0.15);\n",
              "      fill: #174EA6;\n",
              "    }\n",
              "\n",
              "    .colab-df-buttons div {\n",
              "      margin-bottom: 4px;\n",
              "    }\n",
              "\n",
              "    [theme=dark] .colab-df-convert {\n",
              "      background-color: #3B4455;\n",
              "      fill: #D2E3FC;\n",
              "    }\n",
              "\n",
              "    [theme=dark] .colab-df-convert:hover {\n",
              "      background-color: #434B5C;\n",
              "      box-shadow: 0px 1px 3px 1px rgba(0, 0, 0, 0.15);\n",
              "      filter: drop-shadow(0px 1px 2px rgba(0, 0, 0, 0.3));\n",
              "      fill: #FFFFFF;\n",
              "    }\n",
              "  </style>\n",
              "\n",
              "    <script>\n",
              "      const buttonEl =\n",
              "        document.querySelector('#df-b6acefec-5290-4f23-9883-f315be2d9e75 button.colab-df-convert');\n",
              "      buttonEl.style.display =\n",
              "        google.colab.kernel.accessAllowed ? 'block' : 'none';\n",
              "\n",
              "      async function convertToInteractive(key) {\n",
              "        const element = document.querySelector('#df-b6acefec-5290-4f23-9883-f315be2d9e75');\n",
              "        const dataTable =\n",
              "          await google.colab.kernel.invokeFunction('convertToInteractive',\n",
              "                                                    [key], {});\n",
              "        if (!dataTable) return;\n",
              "\n",
              "        const docLinkHtml = 'Like what you see? Visit the ' +\n",
              "          '<a target=\"_blank\" href=https://colab.research.google.com/notebooks/data_table.ipynb>data table notebook</a>'\n",
              "          + ' to learn more about interactive tables.';\n",
              "        element.innerHTML = '';\n",
              "        dataTable['output_type'] = 'display_data';\n",
              "        await google.colab.output.renderOutput(dataTable, element);\n",
              "        const docLink = document.createElement('div');\n",
              "        docLink.innerHTML = docLinkHtml;\n",
              "        element.appendChild(docLink);\n",
              "      }\n",
              "    </script>\n",
              "  </div>\n",
              "\n",
              "\n",
              "<div id=\"df-a08cce8b-6157-4547-9771-8bd27378c1f1\">\n",
              "  <button class=\"colab-df-quickchart\" onclick=\"quickchart('df-a08cce8b-6157-4547-9771-8bd27378c1f1')\"\n",
              "            title=\"Suggest charts\"\n",
              "            style=\"display:none;\">\n",
              "\n",
              "<svg xmlns=\"http://www.w3.org/2000/svg\" height=\"24px\"viewBox=\"0 0 24 24\"\n",
              "     width=\"24px\">\n",
              "    <g>\n",
              "        <path d=\"M19 3H5c-1.1 0-2 .9-2 2v14c0 1.1.9 2 2 2h14c1.1 0 2-.9 2-2V5c0-1.1-.9-2-2-2zM9 17H7v-7h2v7zm4 0h-2V7h2v10zm4 0h-2v-4h2v4z\"/>\n",
              "    </g>\n",
              "</svg>\n",
              "  </button>\n",
              "\n",
              "<style>\n",
              "  .colab-df-quickchart {\n",
              "      --bg-color: #E8F0FE;\n",
              "      --fill-color: #1967D2;\n",
              "      --hover-bg-color: #E2EBFA;\n",
              "      --hover-fill-color: #174EA6;\n",
              "      --disabled-fill-color: #AAA;\n",
              "      --disabled-bg-color: #DDD;\n",
              "  }\n",
              "\n",
              "  [theme=dark] .colab-df-quickchart {\n",
              "      --bg-color: #3B4455;\n",
              "      --fill-color: #D2E3FC;\n",
              "      --hover-bg-color: #434B5C;\n",
              "      --hover-fill-color: #FFFFFF;\n",
              "      --disabled-bg-color: #3B4455;\n",
              "      --disabled-fill-color: #666;\n",
              "  }\n",
              "\n",
              "  .colab-df-quickchart {\n",
              "    background-color: var(--bg-color);\n",
              "    border: none;\n",
              "    border-radius: 50%;\n",
              "    cursor: pointer;\n",
              "    display: none;\n",
              "    fill: var(--fill-color);\n",
              "    height: 32px;\n",
              "    padding: 0;\n",
              "    width: 32px;\n",
              "  }\n",
              "\n",
              "  .colab-df-quickchart:hover {\n",
              "    background-color: var(--hover-bg-color);\n",
              "    box-shadow: 0 1px 2px rgba(60, 64, 67, 0.3), 0 1px 3px 1px rgba(60, 64, 67, 0.15);\n",
              "    fill: var(--button-hover-fill-color);\n",
              "  }\n",
              "\n",
              "  .colab-df-quickchart-complete:disabled,\n",
              "  .colab-df-quickchart-complete:disabled:hover {\n",
              "    background-color: var(--disabled-bg-color);\n",
              "    fill: var(--disabled-fill-color);\n",
              "    box-shadow: none;\n",
              "  }\n",
              "\n",
              "  .colab-df-spinner {\n",
              "    border: 2px solid var(--fill-color);\n",
              "    border-color: transparent;\n",
              "    border-bottom-color: var(--fill-color);\n",
              "    animation:\n",
              "      spin 1s steps(1) infinite;\n",
              "  }\n",
              "\n",
              "  @keyframes spin {\n",
              "    0% {\n",
              "      border-color: transparent;\n",
              "      border-bottom-color: var(--fill-color);\n",
              "      border-left-color: var(--fill-color);\n",
              "    }\n",
              "    20% {\n",
              "      border-color: transparent;\n",
              "      border-left-color: var(--fill-color);\n",
              "      border-top-color: var(--fill-color);\n",
              "    }\n",
              "    30% {\n",
              "      border-color: transparent;\n",
              "      border-left-color: var(--fill-color);\n",
              "      border-top-color: var(--fill-color);\n",
              "      border-right-color: var(--fill-color);\n",
              "    }\n",
              "    40% {\n",
              "      border-color: transparent;\n",
              "      border-right-color: var(--fill-color);\n",
              "      border-top-color: var(--fill-color);\n",
              "    }\n",
              "    60% {\n",
              "      border-color: transparent;\n",
              "      border-right-color: var(--fill-color);\n",
              "    }\n",
              "    80% {\n",
              "      border-color: transparent;\n",
              "      border-right-color: var(--fill-color);\n",
              "      border-bottom-color: var(--fill-color);\n",
              "    }\n",
              "    90% {\n",
              "      border-color: transparent;\n",
              "      border-bottom-color: var(--fill-color);\n",
              "    }\n",
              "  }\n",
              "</style>\n",
              "\n",
              "  <script>\n",
              "    async function quickchart(key) {\n",
              "      const quickchartButtonEl =\n",
              "        document.querySelector('#' + key + ' button');\n",
              "      quickchartButtonEl.disabled = true;  // To prevent multiple clicks.\n",
              "      quickchartButtonEl.classList.add('colab-df-spinner');\n",
              "      try {\n",
              "        const charts = await google.colab.kernel.invokeFunction(\n",
              "            'suggestCharts', [key], {});\n",
              "      } catch (error) {\n",
              "        console.error('Error during call to suggestCharts:', error);\n",
              "      }\n",
              "      quickchartButtonEl.classList.remove('colab-df-spinner');\n",
              "      quickchartButtonEl.classList.add('colab-df-quickchart-complete');\n",
              "    }\n",
              "    (() => {\n",
              "      let quickchartButtonEl =\n",
              "        document.querySelector('#df-a08cce8b-6157-4547-9771-8bd27378c1f1 button');\n",
              "      quickchartButtonEl.style.display =\n",
              "        google.colab.kernel.accessAllowed ? 'block' : 'none';\n",
              "    })();\n",
              "  </script>\n",
              "</div>\n",
              "    </div>\n",
              "  </div>\n"
            ]
          },
          "metadata": {},
          "execution_count": 10
        }
      ],
      "source": [
        "# Define the list of noisy pads\n",
        "noisy_pads = [0, 7, 12, 16, 17]\n",
        "\n",
        "# Remove less informative features and retain the critical 'pmax' and 'negpmax' for pad 15\n",
        "for i in set(range(18)) - set(noisy_pads) - {15}:\n",
        "    df.drop([f'area[{i}]', f'tmax[{i}]', f'rms[{i}]'], axis=1, inplace=True)\n",
        "\n",
        "# Considering the special role of pad 15, create additional features that may capture its unique contribution\n",
        "df['pmax15_diff_neighbors'] = df['pmax[15]'] - df[[f'pmax[{i}]' for i in [14, 11, 9]]].mean(axis=1)\n",
        "df['pmax15_ratio_neighbors'] = df['pmax[15]'] / df[[f'pmax[{i}]' for i in [14, 11, 9]]].mean(axis=1)\n",
        "\n",
        "# Drop features from noisy pads\n",
        "features_to_drop = [f'{measure}[{pad}]' for pad in noisy_pads for measure in ['pmax', 'negpmax']]\n",
        "df_refined = df.drop(features_to_drop, axis=1)\n",
        "\n",
        "# Display the refined DataFrame\n",
        "df_refined.head()\n"
      ]
    },
    {
      "cell_type": "markdown",
      "metadata": {
        "id": "_KI-m-lYkBE6"
      },
      "source": [
        "In this critical stage of data optimization, we have executed a focused pruning of our dataset to shed extraneous signal features that are peripheral to our main objective. By surgically removing the 'area', 'tmax', and 'rms' attributes from all pads, we distill our feature set down to the essentials: the peak magnitudes of both positive and negative signals, denoted as pmax and negpmax. This distillation process is followed by a judicious exclusion of data from pads identified as 'noisy', specifically [0, 7, 12, 16, 17]. This strategic exclusion is pivotal, as it expunges elements that could introduce bias or distortion into our analysis. The culmination of this cleansing is a dataset honed for precision, setting a strong foundation for the creation of a predictive model with enhanced accuracy in locating particle interactions—a testament to the meticulous preparation that underpins robust analytical endeavors."
      ]
    },
    {
      "cell_type": "code",
      "execution_count": 11,
      "metadata": {
        "colab": {
          "base_uri": "https://localhost:8080/"
        },
        "id": "NwUGlfQbkmQv",
        "outputId": "ae7614ff-4e48-4327-a88f-fdae865d7bd2"
      },
      "outputs": [
        {
          "output_type": "stream",
          "name": "stdout",
          "text": [
            "Features from noisy pads have been removed. Remaining features:\n",
            "Index(['x', 'y', 'pmax[1]', 'negpmax[1]', 'area[1]', 'tmax[1]', 'rms[1]',\n",
            "       'pmax[2]', 'negpmax[2]', 'area[2]', 'tmax[2]', 'rms[2]', 'pmax[3]',\n",
            "       'negpmax[3]', 'area[3]', 'tmax[3]', 'rms[3]', 'pmax[4]', 'negpmax[4]',\n",
            "       'area[4]', 'tmax[4]', 'rms[4]', 'pmax[5]', 'negpmax[5]', 'area[5]',\n",
            "       'tmax[5]', 'rms[5]', 'pmax[6]', 'negpmax[6]', 'area[6]', 'tmax[6]',\n",
            "       'rms[6]', 'pmax[8]', 'negpmax[8]', 'area[8]', 'tmax[8]', 'rms[8]',\n",
            "       'pmax[9]', 'negpmax[9]', 'area[9]', 'tmax[9]', 'rms[9]', 'pmax[10]',\n",
            "       'negpmax[10]', 'area[10]', 'tmax[10]', 'rms[10]', 'pmax[11]',\n",
            "       'negpmax[11]', 'area[11]', 'tmax[11]', 'rms[11]', 'pmax[13]',\n",
            "       'negpmax[13]', 'area[13]', 'tmax[13]', 'rms[13]', 'pmax[14]',\n",
            "       'negpmax[14]', 'area[14]', 'tmax[14]', 'rms[14]', 'pmax[15]',\n",
            "       'negpmax[15]', 'area[15]', 'tmax[15]', 'rms[15]'],\n",
            "      dtype='object')\n"
          ]
        }
      ],
      "source": [
        "# Define the list of noisy pads we aim to exclude\n",
        "noisy_pads = [0, 7, 12, 16, 17]\n",
        "\n",
        "# List of signal attributes to consider for exclusion\n",
        "signal_attributes = ['pmax', 'negpmax', 'tmax', 'area', 'rms']\n",
        "\n",
        "# Generate the feature names to remove, based on noisy pads and signal attributes\n",
        "features_to_remove = [f\"{attribute}[{pad}]\" for pad in noisy_pads for attribute in signal_attributes]\n",
        "\n",
        "# Drop the noisy features from the full dataset to cleanse it\n",
        "df_full_cleaned = df_full.drop(columns=features_to_remove)\n",
        "\n",
        "# Confirm the dataset now excludes features from noisy pads while retaining others\n",
        "print(\"Features from noisy pads have been removed. Remaining features:\")\n",
        "print(df_full_cleaned.columns)\n"
      ]
    },
    {
      "cell_type": "markdown",
      "metadata": {
        "id": "aYyfMc1OkxTq"
      },
      "source": [
        "we continue to sculpt our dataset for optimal model training, we've pinpointed specific pads whose signal features contribute more to noise than to the signal. These are pads numbered [0, 7, 12, 16, 17]. For each of these, a spectrum of attributes—peak magnitudes (both positive and negative), the time of maximum signal (tmax), the area under the signal curve, and the root mean square (rms)—are meticulously excised from our dataset. This action is not merely subtractive; it's a calculated enhancement, ensuring that the remaining dataset is a cleaner, more accurate representation of the meaningful patterns we seek to model. The resultant dataframe, now purified of these distractive elements, is poised to be the bedrock upon which a more reliable and discriminating model can be built."
      ]
    },
    {
      "cell_type": "markdown",
      "metadata": {
        "id": "O0OBosYSlrQY"
      },
      "source": [
        "# Optimizing Sensor Pad Localization with Efficient Data Analysis\n",
        "\n",
        "Our methodological refinement for pad localization marries efficiency with precision. By utilizing the nlargest function, we rapidly pinpoint the prime coordinates associated with the highest signal peaks. The aggregation of these points offers us an accurate estimation of each pad's central location, essential for the sophisticated signal analysis that informs our predictive model."
      ]
    },
    {
      "cell_type": "code",
      "execution_count": 12,
      "metadata": {
        "colab": {
          "base_uri": "https://localhost:8080/"
        },
        "id": "2Ryzv50plimV",
        "outputId": "c34aa163-5a32-474d-9393-55e67be9aefd"
      },
      "outputs": [
        {
          "output_type": "stream",
          "name": "stdout",
          "text": [
            "Pad 1: X = 599.70, Y = 486.80\n",
            "Pad 2: X = 595.90, Y = 597.00\n",
            "Pad 3: X = 464.80, Y = 588.60\n",
            "Pad 4: X = 341.90, Y = 599.50\n",
            "Pad 5: X = 308.90, Y = 492.30\n",
            "Pad 6: X = 201.10, Y = 589.20\n",
            "Pad 8: X = 200.60, Y = 388.30\n",
            "Pad 9: X = 203.60, Y = 201.60\n",
            "Pad 10: X = 318.60, Y = 282.60\n",
            "Pad 11: X = 466.80, Y = 210.80\n",
            "Pad 13: X = 478.50, Y = 371.20\n",
            "Pad 14: X = 599.70, Y = 281.20\n"
          ]
        }
      ],
      "source": [
        "# Define the list of real pads if not already done\n",
        "real_pads = [1, 2, 3, 4, 5, 6, 8, 9, 10, 11, 13, 14]\n",
        "\n",
        "# Initialize a dictionary to store the estimated central locations\n",
        "pads_location = {}\n",
        "\n",
        "# Calculate the estimated central location for each pad\n",
        "for pad in real_pads:\n",
        "    top_pmax_coordinates = df.nlargest(50, f'pmax[{pad}]')[['x', 'y']]\n",
        "    pads_location[pad] = top_pmax_coordinates.mean().values\n",
        "\n",
        "# Print the pads_location dictionary to see the estimated x, y coordinates for each pad\n",
        "for pad, location in pads_location.items():\n",
        "    print(f\"Pad {pad}: X = {location[0]:.2f}, Y = {location[1]:.2f}\")\n",
        "\n"
      ]
    },
    {
      "cell_type": "markdown",
      "metadata": {
        "id": "pbv22_Pamshq"
      },
      "source": [
        "# Hexbin Plot with Pad Annotations:\n",
        "\n",
        "This hexbin plot illustrates the event density across the sensor surface with hexagonal bins, offering a nuanced view of event concentrations around each sensor pad. The vibrant color gradations articulate the varying densities, while the superimposed blue markers clearly denote the central locations of each pad, providing a harmonious blend of density information and precise pad positioning."
      ]
    },
    {
      "cell_type": "code",
      "execution_count": 13,
      "metadata": {
        "colab": {
          "base_uri": "https://localhost:8080/",
          "height": 472
        },
        "id": "bjdfcODemyZO",
        "outputId": "926ea911-7b17-485d-ffc5-a7cf48244761"
      },
      "outputs": [
        {
          "output_type": "display_data",
          "data": {
            "text/plain": [
              "<Figure size 640x480 with 2 Axes>"
            ],
            "image/png": "[encoded data removed]"
          },
          "metadata": {}
        }
      ],
      "source": [
        "import matplotlib.pyplot as plt\n",
        "\n",
        "# Extract the coordinates from the pads_location dictionary\n",
        "x_coords, y_coords = zip(*pads_location.values())\n",
        "\n",
        "# Create a figure and a subplot\n",
        "fig, ax = plt.subplots()\n",
        "\n",
        "# Hexbin plot to visualize the density of events\n",
        "hb = ax.hexbin(x_coords, y_coords, gridsize=50, cmap='Oranges', mincnt=1)\n",
        "\n",
        "# Add a color bar to the hexbin plot to indicate the scale of density\n",
        "cb = fig.colorbar(hb, ax=ax)\n",
        "cb.set_label('event density')\n",
        "\n",
        "# Scatter plot to visualize the pad locations, with annotations\n",
        "ax.scatter(x_coords, y_coords, color='blue', edgecolors='black', s=100, label='Pad Locations')\n",
        "for pad, (x, y) in pads_location.items():\n",
        "    ax.annotate(str(pad), (x, y), textcoords=\"offset points\", xytext=(0, 10), ha='center')\n",
        "\n",
        "# Set plot labels and title\n",
        "ax.set_xlabel('x [μm]')\n",
        "ax.set_ylabel('y [μm]')\n",
        "ax.set_title('Pad Locations and Event Density on RSD')\n",
        "plt.grid(False)\n",
        "plt.legend()\n",
        "plt.show()\n"
      ]
    },
    {
      "cell_type": "markdown",
      "metadata": {
        "id": "X_ZpXnFqq4pO"
      },
      "source": [
        "# Integrating Neighborhood Dynamics into Feature Engineering\n",
        "\n",
        "In our refined approach, we've crafted new features that encapsulate the collective signal strength of each pad and its neighboring pads. For each event, we sum the 'pmax' values of a pad's neighbors, and count how many of them have a 'pmax' exceeding a specified significance threshold. Additionally, we introduce an average neighborhood signal feature to normalize the impact of varying neighborhood sizes. These innovative features aim to harness the contextual information inherent in the spatial distribution of signals, bolstering the predictive power of our model with insights drawn from the broader signal landscape."
      ]
    },
    {
      "cell_type": "code",
      "execution_count": 14,
      "metadata": {
        "colab": {
          "base_uri": "https://localhost:8080/",
          "height": 255
        },
        "id": "enhbnfIbq-iO",
        "outputId": "82e6f7e7-7469-4c38-e9a1-218811400106"
      },
      "outputs": [
        {
          "output_type": "execute_result",
          "data": {
            "text/plain": [
              "       x      y   pmax[0]  negpmax[0]   area[0]     tmax[0]    rms[0]  \\\n",
              "0  200.0  200.0  4.066907  -17.690173  2.847932    0.600000  2.007042   \n",
              "1  200.0  200.0  5.916801   -4.717111  5.792778   79.765174  1.564535   \n",
              "2  200.0  200.0  4.286652   -5.316132  2.356390   74.600000  1.404622   \n",
              "3  200.0  200.0  4.003635   -4.617459  2.189005   43.000000  1.512162   \n",
              "4  200.0  200.0  4.448146   -4.848743  3.997002  196.667482  1.101113   \n",
              "\n",
              "    pmax[1]  negpmax[1]   pmax[2]  ...  neighborhood_avg_pmax[3]  \\\n",
              "0  5.409161  -17.721210  6.084506  ...                  6.632775   \n",
              "1  4.414289   -4.736827  4.507257  ...                  8.463471   \n",
              "2  4.567191   -5.985437  5.384155  ...                  5.716663   \n",
              "3  5.019058   -4.229949  4.165598  ...                  6.581261   \n",
              "4  3.250262   -5.783587  4.736023  ...                  6.458550   \n",
              "\n",
              "   neighborhood_avg_pmax[4]  neighborhood_avg_pmax[5]  \\\n",
              "0                  5.403657                 14.647703   \n",
              "1                  6.246213                 16.645641   \n",
              "2                  6.083180                 14.230406   \n",
              "3                  6.457286                 14.439777   \n",
              "4                  7.931967                 15.075081   \n",
              "\n",
              "   neighborhood_avg_pmax[6]  neighborhood_avg_pmax[8]  \\\n",
              "0                 13.598862                 38.457325   \n",
              "1                 14.240103                 37.387760   \n",
              "2                 11.486318                 36.862648   \n",
              "3                 13.954626                 35.749350   \n",
              "4                 13.615408                 41.746076   \n",
              "\n",
              "   neighborhood_avg_pmax[9]  neighborhood_avg_pmax[10]  \\\n",
              "0                 34.324823                  31.031631   \n",
              "1                 33.243613                  32.806443   \n",
              "2                 31.750359                  28.204173   \n",
              "3                 32.194836                  29.197429   \n",
              "4                 33.731866                  33.321511   \n",
              "\n",
              "   neighborhood_avg_pmax[11]  neighborhood_avg_pmax[13]  \\\n",
              "0                  18.711716                  13.276921   \n",
              "1                  23.654992                  13.757874   \n",
              "2                  17.871258                  12.083476   \n",
              "3                  17.560785                  12.394258   \n",
              "4                  18.469018                  13.595480   \n",
              "\n",
              "   neighborhood_avg_pmax[14]  \n",
              "0                   8.434165  \n",
              "1                  11.737672  \n",
              "2                   7.052370  \n",
              "3                   8.123535  \n",
              "4                   8.642958  \n",
              "\n",
              "[5 rows x 94 columns]"
            ],
            "text/html": [
              "\n",
              "  <div id=\"df-9c20301d-7fdd-4b1f-a2f8-2bc31485acde\" class=\"colab-df-container\">\n",
              "    <div>\n",
              "<style scoped>\n",
              "    .dataframe tbody tr th:only-of-type {\n",
              "        vertical-align: middle;\n",
              "    }\n",
              "\n",
              "    .dataframe tbody tr th {\n",
              "        vertical-align: top;\n",
              "    }\n",
              "\n",
              "    .dataframe thead th {\n",
              "        text-align: right;\n",
              "    }\n",
              "</style>\n",
              "<table border=\"1\" class=\"dataframe\">\n",
              "  <thead>\n",
              "    <tr style=\"text-align: right;\">\n",
              "      <th></th>\n",
              "      <th>x</th>\n",
              "      <th>y</th>\n",
              "      <th>pmax[0]</th>\n",
              "      <th>negpmax[0]</th>\n",
              "      <th>area[0]</th>\n",
              "      <th>tmax[0]</th>\n",
              "      <th>rms[0]</th>\n",
              "      <th>pmax[1]</th>\n",
              "      <th>negpmax[1]</th>\n",
              "      <th>pmax[2]</th>\n",
              "      <th>...</th>\n",
              "      <th>neighborhood_avg_pmax[3]</th>\n",
              "      <th>neighborhood_avg_pmax[4]</th>\n",
              "      <th>neighborhood_avg_pmax[5]</th>\n",
              "      <th>neighborhood_avg_pmax[6]</th>\n",
              "      <th>neighborhood_avg_pmax[8]</th>\n",
              "      <th>neighborhood_avg_pmax[9]</th>\n",
              "      <th>neighborhood_avg_pmax[10]</th>\n",
              "      <th>neighborhood_avg_pmax[11]</th>\n",
              "      <th>neighborhood_avg_pmax[13]</th>\n",
              "      <th>neighborhood_avg_pmax[14]</th>\n",
              "    </tr>\n",
              "  </thead>\n",
              "  <tbody>\n",
              "    <tr>\n",
              "      <th>0</th>\n",
              "      <td>200.0</td>\n",
              "      <td>200.0</td>\n",
              "      <td>4.066907</td>\n",
              "      <td>-17.690173</td>\n",
              "      <td>2.847932</td>\n",
              "      <td>0.600000</td>\n",
              "      <td>2.007042</td>\n",
              "      <td>5.409161</td>\n",
              "      <td>-17.721210</td>\n",
              "      <td>6.084506</td>\n",
              "      <td>...</td>\n",
              "      <td>6.632775</td>\n",
              "      <td>5.403657</td>\n",
              "      <td>14.647703</td>\n",
              "      <td>13.598862</td>\n",
              "      <td>38.457325</td>\n",
              "      <td>34.324823</td>\n",
              "      <td>31.031631</td>\n",
              "      <td>18.711716</td>\n",
              "      <td>13.276921</td>\n",
              "      <td>8.434165</td>\n",
              "    </tr>\n",
              "    <tr>\n",
              "      <th>1</th>\n",
              "      <td>200.0</td>\n",
              "      <td>200.0</td>\n",
              "      <td>5.916801</td>\n",
              "      <td>-4.717111</td>\n",
              "      <td>5.792778</td>\n",
              "      <td>79.765174</td>\n",
              "      <td>1.564535</td>\n",
              "      <td>4.414289</td>\n",
              "      <td>-4.736827</td>\n",
              "      <td>4.507257</td>\n",
              "      <td>...</td>\n",
              "      <td>8.463471</td>\n",
              "      <td>6.246213</td>\n",
              "      <td>16.645641</td>\n",
              "      <td>14.240103</td>\n",
              "      <td>37.387760</td>\n",
              "      <td>33.243613</td>\n",
              "      <td>32.806443</td>\n",
              "      <td>23.654992</td>\n",
              "      <td>13.757874</td>\n",
              "      <td>11.737672</td>\n",
              "    </tr>\n",
              "    <tr>\n",
              "      <th>2</th>\n",
              "      <td>200.0</td>\n",
              "      <td>200.0</td>\n",
              "      <td>4.286652</td>\n",
              "      <td>-5.316132</td>\n",
              "      <td>2.356390</td>\n",
              "      <td>74.600000</td>\n",
              "      <td>1.404622</td>\n",
              "      <td>4.567191</td>\n",
              "      <td>-5.985437</td>\n",
              "      <td>5.384155</td>\n",
              "      <td>...</td>\n",
              "      <td>5.716663</td>\n",
              "      <td>6.083180</td>\n",
              "      <td>14.230406</td>\n",
              "      <td>11.486318</td>\n",
              "      <td>36.862648</td>\n",
              "      <td>31.750359</td>\n",
              "      <td>28.204173</td>\n",
              "      <td>17.871258</td>\n",
              "      <td>12.083476</td>\n",
              "      <td>7.052370</td>\n",
              "    </tr>\n",
              "    <tr>\n",
              "      <th>3</th>\n",
              "      <td>200.0</td>\n",
              "      <td>200.0</td>\n",
              "      <td>4.003635</td>\n",
              "      <td>-4.617459</td>\n",
              "      <td>2.189005</td>\n",
              "      <td>43.000000</td>\n",
              "      <td>1.512162</td>\n",
              "      <td>5.019058</td>\n",
              "      <td>-4.229949</td>\n",
              "      <td>4.165598</td>\n",
              "      <td>...</td>\n",
              "      <td>6.581261</td>\n",
              "      <td>6.457286</td>\n",
              "      <td>14.439777</td>\n",
              "      <td>13.954626</td>\n",
              "      <td>35.749350</td>\n",
              "      <td>32.194836</td>\n",
              "      <td>29.197429</td>\n",
              "      <td>17.560785</td>\n",
              "      <td>12.394258</td>\n",
              "      <td>8.123535</td>\n",
              "    </tr>\n",
              "    <tr>\n",
              "      <th>4</th>\n",
              "      <td>200.0</td>\n",
              "      <td>200.0</td>\n",
              "      <td>4.448146</td>\n",
              "      <td>-4.848743</td>\n",
              "      <td>3.997002</td>\n",
              "      <td>196.667482</td>\n",
              "      <td>1.101113</td>\n",
              "      <td>3.250262</td>\n",
              "      <td>-5.783587</td>\n",
              "      <td>4.736023</td>\n",
              "      <td>...</td>\n",
              "      <td>6.458550</td>\n",
              "      <td>7.931967</td>\n",
              "      <td>15.075081</td>\n",
              "      <td>13.615408</td>\n",
              "      <td>41.746076</td>\n",
              "      <td>33.731866</td>\n",
              "      <td>33.321511</td>\n",
              "      <td>18.469018</td>\n",
              "      <td>13.595480</td>\n",
              "      <td>8.642958</td>\n",
              "    </tr>\n",
              "  </tbody>\n",
              "</table>\n",
              "<p>5 rows × 94 columns</p>\n",
              "</div>\n",
              "    <div class=\"colab-df-buttons\">\n",
              "\n",
              "  <div class=\"colab-df-container\">\n",
              "    <button class=\"colab-df-convert\" onclick=\"convertToInteractive('df-9c20301d-7fdd-4b1f-a2f8-2bc31485acde')\"\n",
              "            title=\"Convert this dataframe to an interactive table.\"\n",
              "            style=\"display:none;\">\n",
              "\n",
              "  <svg xmlns=\"http://www.w3.org/2000/svg\" height=\"24px\" viewBox=\"0 -960 960 960\">\n",
              "    <path d=\"M120-120v-720h720v720H120Zm60-500h600v-160H180v160Zm220 220h160v-160H400v160Zm0 220h160v-160H400v160ZM180-400h160v-160H180v160Zm440 0h160v-160H620v160ZM180-180h160v-160H180v160Zm440 0h160v-160H620v160Z\"/>\n",
              "  </svg>\n",
              "    </button>\n",
              "\n",
              "  <style>\n",
              "    .colab-df-container {\n",
              "      display:flex;\n",
              "      gap: 12px;\n",
              "    }\n",
              "\n",
              "    .colab-df-convert {\n",
              "      background-color: #E8F0FE;\n",
              "      border: none;\n",
              "      border-radius: 50%;\n",
              "      cursor: pointer;\n",
              "      display: none;\n",
              "      fill: #1967D2;\n",
              "      height: 32px;\n",
              "      padding: 0 0 0 0;\n",
              "      width: 32px;\n",
              "    }\n",
              "\n",
              "    .colab-df-convert:hover {\n",
              "      background-color: #E2EBFA;\n",
              "      box-shadow: 0px 1px 2px rgba(60, 64, 67, 0.3), 0px 1px 3px 1px rgba(60, 64, 67, 0.15);\n",
              "      fill: #174EA6;\n",
              "    }\n",
              "\n",
              "    .colab-df-buttons div {\n",
              "      margin-bottom: 4px;\n",
              "    }\n",
              "\n",
              "    [theme=dark] .colab-df-convert {\n",
              "      background-color: #3B4455;\n",
              "      fill: #D2E3FC;\n",
              "    }\n",
              "\n",
              "    [theme=dark] .colab-df-convert:hover {\n",
              "      background-color: #434B5C;\n",
              "      box-shadow: 0px 1px 3px 1px rgba(0, 0, 0, 0.15);\n",
              "      filter: drop-shadow(0px 1px 2px rgba(0, 0, 0, 0.3));\n",
              "      fill: #FFFFFF;\n",
              "    }\n",
              "  </style>\n",
              "\n",
              "    <script>\n",
              "      const buttonEl =\n",
              "        document.querySelector('#df-9c20301d-7fdd-4b1f-a2f8-2bc31485acde button.colab-df-convert');\n",
              "      buttonEl.style.display =\n",
              "        google.colab.kernel.accessAllowed ? 'block' : 'none';\n",
              "\n",
              "      async function convertToInteractive(key) {\n",
              "        const element = document.querySelector('#df-9c20301d-7fdd-4b1f-a2f8-2bc31485acde');\n",
              "        const dataTable =\n",
              "          await google.colab.kernel.invokeFunction('convertToInteractive',\n",
              "                                                    [key], {});\n",
              "        if (!dataTable) return;\n",
              "\n",
              "        const docLinkHtml = 'Like what you see? Visit the ' +\n",
              "          '<a target=\"_blank\" href=https://colab.research.google.com/notebooks/data_table.ipynb>data table notebook</a>'\n",
              "          + ' to learn more about interactive tables.';\n",
              "        element.innerHTML = '';\n",
              "        dataTable['output_type'] = 'display_data';\n",
              "        await google.colab.output.renderOutput(dataTable, element);\n",
              "        const docLink = document.createElement('div');\n",
              "        docLink.innerHTML = docLinkHtml;\n",
              "        element.appendChild(docLink);\n",
              "      }\n",
              "    </script>\n",
              "  </div>\n",
              "\n",
              "\n",
              "<div id=\"df-d6139304-54f8-43fe-b9d7-b94aee8eef85\">\n",
              "  <button class=\"colab-df-quickchart\" onclick=\"quickchart('df-d6139304-54f8-43fe-b9d7-b94aee8eef85')\"\n",
              "            title=\"Suggest charts\"\n",
              "            style=\"display:none;\">\n",
              "\n",
              "<svg xmlns=\"http://www.w3.org/2000/svg\" height=\"24px\"viewBox=\"0 0 24 24\"\n",
              "     width=\"24px\">\n",
              "    <g>\n",
              "        <path d=\"M19 3H5c-1.1 0-2 .9-2 2v14c0 1.1.9 2 2 2h14c1.1 0 2-.9 2-2V5c0-1.1-.9-2-2-2zM9 17H7v-7h2v7zm4 0h-2V7h2v10zm4 0h-2v-4h2v4z\"/>\n",
              "    </g>\n",
              "</svg>\n",
              "  </button>\n",
              "\n",
              "<style>\n",
              "  .colab-df-quickchart {\n",
              "      --bg-color: #E8F0FE;\n",
              "      --fill-color: #1967D2;\n",
              "      --hover-bg-color: #E2EBFA;\n",
              "      --hover-fill-color: #174EA6;\n",
              "      --disabled-fill-color: #AAA;\n",
              "      --disabled-bg-color: #DDD;\n",
              "  }\n",
              "\n",
              "  [theme=dark] .colab-df-quickchart {\n",
              "      --bg-color: #3B4455;\n",
              "      --fill-color: #D2E3FC;\n",
              "      --hover-bg-color: #434B5C;\n",
              "      --hover-fill-color: #FFFFFF;\n",
              "      --disabled-bg-color: #3B4455;\n",
              "      --disabled-fill-color: #666;\n",
              "  }\n",
              "\n",
              "  .colab-df-quickchart {\n",
              "    background-color: var(--bg-color);\n",
              "    border: none;\n",
              "    border-radius: 50%;\n",
              "    cursor: pointer;\n",
              "    display: none;\n",
              "    fill: var(--fill-color);\n",
              "    height: 32px;\n",
              "    padding: 0;\n",
              "    width: 32px;\n",
              "  }\n",
              "\n",
              "  .colab-df-quickchart:hover {\n",
              "    background-color: var(--hover-bg-color);\n",
              "    box-shadow: 0 1px 2px rgba(60, 64, 67, 0.3), 0 1px 3px 1px rgba(60, 64, 67, 0.15);\n",
              "    fill: var(--button-hover-fill-color);\n",
              "  }\n",
              "\n",
              "  .colab-df-quickchart-complete:disabled,\n",
              "  .colab-df-quickchart-complete:disabled:hover {\n",
              "    background-color: var(--disabled-bg-color);\n",
              "    fill: var(--disabled-fill-color);\n",
              "    box-shadow: none;\n",
              "  }\n",
              "\n",
              "  .colab-df-spinner {\n",
              "    border: 2px solid var(--fill-color);\n",
              "    border-color: transparent;\n",
              "    border-bottom-color: var(--fill-color);\n",
              "    animation:\n",
              "      spin 1s steps(1) infinite;\n",
              "  }\n",
              "\n",
              "  @keyframes spin {\n",
              "    0% {\n",
              "      border-color: transparent;\n",
              "      border-bottom-color: var(--fill-color);\n",
              "      border-left-color: var(--fill-color);\n",
              "    }\n",
              "    20% {\n",
              "      border-color: transparent;\n",
              "      border-left-color: var(--fill-color);\n",
              "      border-top-color: var(--fill-color);\n",
              "    }\n",
              "    30% {\n",
              "      border-color: transparent;\n",
              "      border-left-color: var(--fill-color);\n",
              "      border-top-color: var(--fill-color);\n",
              "      border-right-color: var(--fill-color);\n",
              "    }\n",
              "    40% {\n",
              "      border-color: transparent;\n",
              "      border-right-color: var(--fill-color);\n",
              "      border-top-color: var(--fill-color);\n",
              "    }\n",
              "    60% {\n",
              "      border-color: transparent;\n",
              "      border-right-color: var(--fill-color);\n",
              "    }\n",
              "    80% {\n",
              "      border-color: transparent;\n",
              "      border-right-color: var(--fill-color);\n",
              "      border-bottom-color: var(--fill-color);\n",
              "    }\n",
              "    90% {\n",
              "      border-color: transparent;\n",
              "      border-bottom-color: var(--fill-color);\n",
              "    }\n",
              "  }\n",
              "</style>\n",
              "\n",
              "  <script>\n",
              "    async function quickchart(key) {\n",
              "      const quickchartButtonEl =\n",
              "        document.querySelector('#' + key + ' button');\n",
              "      quickchartButtonEl.disabled = true;  // To prevent multiple clicks.\n",
              "      quickchartButtonEl.classList.add('colab-df-spinner');\n",
              "      try {\n",
              "        const charts = await google.colab.kernel.invokeFunction(\n",
              "            'suggestCharts', [key], {});\n",
              "      } catch (error) {\n",
              "        console.error('Error during call to suggestCharts:', error);\n",
              "      }\n",
              "      quickchartButtonEl.classList.remove('colab-df-spinner');\n",
              "      quickchartButtonEl.classList.add('colab-df-quickchart-complete');\n",
              "    }\n",
              "    (() => {\n",
              "      let quickchartButtonEl =\n",
              "        document.querySelector('#df-d6139304-54f8-43fe-b9d7-b94aee8eef85 button');\n",
              "      quickchartButtonEl.style.display =\n",
              "        google.colab.kernel.accessAllowed ? 'block' : 'none';\n",
              "    })();\n",
              "  </script>\n",
              "</div>\n",
              "    </div>\n",
              "  </div>\n"
            ]
          },
          "metadata": {},
          "execution_count": 14
        }
      ],
      "source": [
        "# Define the neighborhood relationship between the pads\n",
        "neighborhood_dict = {\n",
        "    1: [2, 3, 13, 14],\n",
        "    2: [1, 3],\n",
        "    3: [1, 2, 4, 5, 13],\n",
        "    4: [3, 5, 6],\n",
        "    5: [3, 4, 6, 8, 10, 13],\n",
        "    6: [4, 5, 8],\n",
        "    8: [6, 5, 10, 9],\n",
        "    9: [8, 10],\n",
        "    10: [9, 8, 5, 13, 11],\n",
        "    11: [10, 13, 14],\n",
        "    13: [1, 3, 5, 10, 11, 14],\n",
        "    14: [1, 13, 11]\n",
        "}\n",
        "\n",
        "# Define a threshold for significant 'pmax' value\n",
        "significant_pmax_threshold = 5  # Example threshold value\n",
        "\n",
        "# Add new features to the DataFrame for each pad\n",
        "for pad, neighbors in neighborhood_dict.items():\n",
        "    # Calculate the sum of 'pmax' values for the neighbors of each pad\n",
        "    df[f'neighborhood_sum_pmax[{pad}]'] = df[[f'pmax[{n}]' for n in neighbors]].sum(axis=1)\n",
        "\n",
        "    # Calculate the number of neighbors with 'pmax' above the threshold\n",
        "    df[f'neighbors_above_threshold[{pad}]'] = df[[f'pmax[{n}]' for n in neighbors]].gt(significant_pmax_threshold).sum(axis=1)\n",
        "\n",
        "# Optionally, normalize these new features by the number of neighbors to get an average\n",
        "for pad, neighbors in neighborhood_dict.items():\n",
        "    df[f'neighborhood_avg_pmax[{pad}]'] = df[f'neighborhood_sum_pmax[{pad}]'] / len(neighbors)\n",
        "\n",
        "# Display the DataFrame with the new features\n",
        "df.head()\n"
      ]
    },
    {
      "cell_type": "markdown",
      "metadata": {
        "id": "kwfSerpps5yc"
      },
      "source": [
        "# Enhanced Spatial Feature Engineering: Highlighting Signal Interactions Among Sensor Pads\n",
        "\n",
        "In our quest to capture the intricate spatial dynamics among sensor pads, we've implemented a binary representation scheme that marks the maximum signal pad with a high value, while also recognizing the influence of neighboring pads. This nuanced approach allows us to paint a detailed picture of each event's signal pattern, taking into account the collective behavior of pads in the vicinity of the peak signal. By doing so, we enhance the dataset with features that reflect the contextual interplay of signals, which is poised to significantly bolster the predictive acuity of our model."
      ]
    },
    {
      "cell_type": "code",
      "execution_count": 15,
      "metadata": {
        "id": "kfyL0F58s-q2"
      },
      "outputs": [],
      "source": [
        "# Define the function to apply our feature engineering logic\n",
        "def create_spatial_features(df, pad, neighborhood_dict, threshold=19):\n",
        "    # Create a binary feature for each pad\n",
        "    for current_pad in df.columns:\n",
        "        df[f'binary_signal_{current_pad}'] = 0  # Initialize with 0\n",
        "\n",
        "    # Find the pad with the maximum 'pmax' for each event\n",
        "    df['max_pmax_pad'] = df[[f'pmax[{i}]' for i in real_pads]].idxmax(axis=1)\n",
        "\n",
        "    # Apply the logic to set values for each pad based on the max 'pmax' and its neighborhood\n",
        "    for index, row in df.iterrows():\n",
        "        max_pad = int(row['max_pmax_pad'].split('[')[-1].split(']')[0])  # Extract pad number\n",
        "        df.at[index, f'binary_signal_pmax[{max_pad}]'] = 10  # Set 10 for the pad with max 'pmax'\n",
        "\n",
        "        # Check and set values for neighboring pads\n",
        "        for neighbor in neighborhood_dict[max_pad]:\n",
        "            if row[f'pmax[{neighbor}]'] > threshold:\n",
        "                df.at[index, f'binary_signal_pmax[{neighbor}]'] = 1  # Set 1 for significant neighbors\n",
        "\n",
        "    return df\n",
        "\n",
        "# Apply the function to the dataframe\n",
        "df_enhanced = create_spatial_features(df_refined, real_pads, neighborhood_dict)\n"
      ]
    },
    {
      "cell_type": "markdown",
      "metadata": {
        "id": "qEnI9tH9DhJc"
      },
      "source": [
        "# Visualization\n",
        "\n",
        "These visualizations highlight the primary pad with the maximum signal for a given event and its neighboring pads, depicted as triangles. The focus pad is marked in red, its neighbors in orange, and the rest in blue. Annotations further clarify the pad numbers, ensuring a clear understanding of each pad's role in the event's signal profile. This display not only provides a visual summary of the spatial feature engineering but also confirms the inter-pad relationships we've encoded into our dataset, with the triangular shapes offering a distinct visual representation of the sensor layout."
      ]
    },
    {
      "cell_type": "code",
      "execution_count": 16,
      "metadata": {
        "colab": {
          "base_uri": "https://localhost:8080/",
          "height": 927
        },
        "id": "NHJtibPZDXJm",
        "outputId": "37feac88-459f-467b-eceb-57781cf65e88"
      },
      "outputs": [
        {
          "output_type": "display_data",
          "data": {
            "text/plain": [
              "<Figure size 640x480 with 1 Axes>"
            ],
            "image/png": "[encoded data removed]"
          },
          "metadata": {}
        },
        {
          "output_type": "display_data",
          "data": {
            "text/plain": [
              "<Figure size 640x480 with 1 Axes>"
            ],
            "image/png": "[encoded data removed]"
          },
          "metadata": {}
        }
      ],
      "source": [
        "import matplotlib.pyplot as plt\n",
        "import matplotlib.patches as patches\n",
        "\n",
        "def plot_focused_pads(pads_location, neighborhood_dict, focus_pad, ax):\n",
        "    used_labels = set()\n",
        "\n",
        "    for pad, (x, y) in pads_location.items():\n",
        "        if pad == focus_pad:\n",
        "            label = 'Focus Pad' if 'Focus Pad' not in used_labels else None\n",
        "            triangle = patches.RegularPolygon((x, y), numVertices=3, radius=20, orientation=np.pi/2, color='red', label=label)\n",
        "            ax.add_patch(triangle)\n",
        "            ax.annotate(str(pad), (x, y), color='white', weight='bold', fontsize=10, ha='center', va='center')\n",
        "            used_labels.add('Focus Pad')\n",
        "        elif pad in neighborhood_dict.get(focus_pad, []):\n",
        "            label = 'Neighboring Pads' if 'Neighboring Pads' not in used_labels else None\n",
        "            triangle = patches.RegularPolygon((x, y), numVertices=3, radius=20, orientation=np.pi/2, color='orange', label=label)\n",
        "            ax.add_patch(triangle)\n",
        "            ax.annotate(str(pad), (x, y), color='white', weight='bold', fontsize=10, ha='center', va='center')\n",
        "            used_labels.add('Neighboring Pads')\n",
        "        else:\n",
        "            label = 'Other Pads' if 'Other Pads' not in used_labels else None\n",
        "            triangle = patches.RegularPolygon((x, y), numVertices=3, radius=20, orientation=np.pi/2, color='blue', label=label)\n",
        "            ax.add_patch(triangle)\n",
        "            ax.annotate(str(pad), (x, y), color='white', weight='bold', fontsize=10, ha='center', va='center')\n",
        "            used_labels.add('Other Pads')\n",
        "\n",
        "    # Adding legends outside the plot\n",
        "    ax.legend(bbox_to_anchor=(1.05, 1), loc='upper left')\n",
        "\n",
        "# Plot for pad 4\n",
        "fig, ax = plt.subplots()\n",
        "plot_focused_pads(pads_location, neighborhood_dict, 4, ax)\n",
        "ax.set_title('Pads Mapping (Focus on Pad 4)')\n",
        "\n",
        "# Plot for pad 13\n",
        "fig, ax2 = plt.subplots()\n",
        "plot_focused_pads(pads_location, neighborhood_dict, 13, ax2)\n",
        "ax2.set_title('Pads Mapping (Focus on Pad 13)')\n",
        "\n",
        "for ax in [ax, ax2]:\n",
        "    ax.set_xlim([100, 700])\n",
        "    ax.set_ylim([100, 700])\n",
        "    ax.set_xlabel('x [μm]')\n",
        "    ax.set_ylabel('y [μm]')\n",
        "\n",
        "plt.show()\n"
      ]
    },
    {
      "cell_type": "markdown",
      "metadata": {
        "id": "BRM8B8MXGhDX"
      },
      "source": [
        " # Define the pad localization function.\n",
        " This function calculates new feature columns based on the pad with the highest 'pmax' value and its neighbors."
      ]
    },
    {
      "cell_type": "code",
      "execution_count": 17,
      "metadata": {
        "id": "bnOpB9e7GkpU"
      },
      "outputs": [],
      "source": [
        "def pad_localization(row, real_pads, neighborhood_dict):\n",
        "    # Identify the pad with the highest 'pmax' value\n",
        "    max_pad = max(real_pads, key=lambda pad: row[f'pmax[{pad}]'])\n",
        "\n",
        "    # Initialize a list for the new feature columns\n",
        "    feature_columns = [0] * len(real_pads)\n",
        "\n",
        "    # Set value 10 for the maximum pad\n",
        "    feature_columns[real_pads.index(max_pad)] = 10\n",
        "\n",
        "    # Assign a value of 1 to the features corresponding to neighboring pads\n",
        "    for neighbor_pad in neighborhood_dict.get(max_pad, []):\n",
        "        if neighbor_pad in real_pads:\n",
        "            feature_columns[real_pads.index(neighbor_pad)] = 1\n",
        "\n",
        "    # Return the new features as a pandas Series with appropriate column names\n",
        "    return pd.Series(feature_columns, index=[f'pad_{pad}' for pad in real_pads])\n"
      ]
    },
    {
      "cell_type": "markdown",
      "metadata": {
        "id": "ljSFIW92Go4T"
      },
      "source": [
        "# Apply the feature engineering function to each row in the DataFrame."
      ]
    },
    {
      "cell_type": "code",
      "execution_count": 18,
      "metadata": {
        "id": "8sBnFZzcGqh3"
      },
      "outputs": [],
      "source": [
        "# Apply the pad_localization to each row\n",
        "new_columns = df_full_cleaned.apply(lambda row: pad_localization(row, real_pads, neighborhood_dict), axis=1)\n"
      ]
    },
    {
      "cell_type": "markdown",
      "metadata": {
        "id": "9U6S2_CHGuND"
      },
      "source": [
        "# Ensure no duplicate columns are added."
      ]
    },
    {
      "cell_type": "code",
      "execution_count": 19,
      "metadata": {
        "id": "zD-2bcciGvyi"
      },
      "outputs": [],
      "source": [
        "# Rename new columns to avoid duplicates\n",
        "new_columns.columns = [f\"{col}_new\" if col in df_full_cleaned.columns else col for col in new_columns.columns]\n"
      ]
    },
    {
      "cell_type": "markdown",
      "metadata": {
        "id": "A3xsbBQVG36l"
      },
      "source": [
        "# Concatenate the newly created feature columns with the original DataFrame."
      ]
    },
    {
      "cell_type": "code",
      "execution_count": 20,
      "metadata": {
        "id": "hp-b-CIFG7jt"
      },
      "outputs": [],
      "source": [
        "# Concatenate the new columns to the original dataframe\n",
        "df_full_enhanced = pd.concat([df_full_cleaned, new_columns], axis=1)\n"
      ]
    },
    {
      "cell_type": "markdown",
      "metadata": {
        "id": "3PqerY7_G-Et"
      },
      "source": [
        "# Check for duplicate columns and remove if necessary."
      ]
    },
    {
      "cell_type": "code",
      "execution_count": 21,
      "metadata": {
        "id": "3tRms9ZpHBir"
      },
      "outputs": [],
      "source": [
        "# Remove duplicate columns if they exist\n",
        "df_full_enhanced = df_full_enhanced.loc[:, ~df_full_enhanced.columns.duplicated()]\n"
      ]
    },
    {
      "cell_type": "markdown",
      "metadata": {
        "id": "I4327kBKHEWN"
      },
      "source": [
        "# Display the first few rows of the updated DataFrame to verify the changes."
      ]
    },
    {
      "cell_type": "code",
      "execution_count": 22,
      "metadata": {
        "colab": {
          "base_uri": "https://localhost:8080/",
          "height": 255
        },
        "id": "RqtKhHD8HGuM",
        "outputId": "d93eae18-bdf1-48ca-f9bf-1bdacf33bee0"
      },
      "outputs": [
        {
          "output_type": "execute_result",
          "data": {
            "text/plain": [
              "       x      y   pmax[1]  negpmax[1]   area[1]     tmax[1]    rms[1]  \\\n",
              "0  200.0  200.0  5.409161  -17.721210  4.538778   22.600000  1.563902   \n",
              "1  200.0  200.0  4.414289   -4.736827  3.720435  111.875058  1.228058   \n",
              "2  200.0  200.0  4.567191   -5.985437  3.490490  107.800000  1.015408   \n",
              "3  200.0  200.0  5.019058   -4.229949  6.786200  175.600000  1.350620   \n",
              "4  200.0  200.0  3.250262   -5.783587  2.449456  159.800000  0.759515   \n",
              "\n",
              "    pmax[2]  negpmax[2]   area[2]  ...  pad_3  pad_4  pad_5  pad_6  pad_8  \\\n",
              "0  6.084506  -19.892543  3.132328  ...      0      0      0      0      1   \n",
              "1  4.507257   -3.787175  3.267461  ...      0      0      0      0      1   \n",
              "2  5.384155   -3.948853  2.929150  ...      0      0      0      0      1   \n",
              "3  4.165598   -5.576041  1.544370  ...      0      0      0      0      1   \n",
              "4  4.736023   -5.137939  4.211047  ...      0      0      0      0      1   \n",
              "\n",
              "   pad_9  pad_10  pad_11  pad_13  pad_14  \n",
              "0     10       1       0       0       0  \n",
              "1     10       1       0       0       0  \n",
              "2     10       1       0       0       0  \n",
              "3     10       1       0       0       0  \n",
              "4     10       1       0       0       0  \n",
              "\n",
              "[5 rows x 79 columns]"
            ],
            "text/html": [
              "\n",
              "  <div id=\"df-8f664005-6926-47ff-ab33-d5b66a163da5\" class=\"colab-df-container\">\n",
              "    <div>\n",
              "<style scoped>\n",
              "    .dataframe tbody tr th:only-of-type {\n",
              "        vertical-align: middle;\n",
              "    }\n",
              "\n",
              "    .dataframe tbody tr th {\n",
              "        vertical-align: top;\n",
              "    }\n",
              "\n",
              "    .dataframe thead th {\n",
              "        text-align: right;\n",
              "    }\n",
              "</style>\n",
              "<table border=\"1\" class=\"dataframe\">\n",
              "  <thead>\n",
              "    <tr style=\"text-align: right;\">\n",
              "      <th></th>\n",
              "      <th>x</th>\n",
              "      <th>y</th>\n",
              "      <th>pmax[1]</th>\n",
              "      <th>negpmax[1]</th>\n",
              "      <th>area[1]</th>\n",
              "      <th>tmax[1]</th>\n",
              "      <th>rms[1]</th>\n",
              "      <th>pmax[2]</th>\n",
              "      <th>negpmax[2]</th>\n",
              "      <th>area[2]</th>\n",
              "      <th>...</th>\n",
              "      <th>pad_3</th>\n",
              "      <th>pad_4</th>\n",
              "      <th>pad_5</th>\n",
              "      <th>pad_6</th>\n",
              "      <th>pad_8</th>\n",
              "      <th>pad_9</th>\n",
              "      <th>pad_10</th>\n",
              "      <th>pad_11</th>\n",
              "      <th>pad_13</th>\n",
              "      <th>pad_14</th>\n",
              "    </tr>\n",
              "  </thead>\n",
              "  <tbody>\n",
              "    <tr>\n",
              "      <th>0</th>\n",
              "      <td>200.0</td>\n",
              "      <td>200.0</td>\n",
              "      <td>5.409161</td>\n",
              "      <td>-17.721210</td>\n",
              "      <td>4.538778</td>\n",
              "      <td>22.600000</td>\n",
              "      <td>1.563902</td>\n",
              "      <td>6.084506</td>\n",
              "      <td>-19.892543</td>\n",
              "      <td>3.132328</td>\n",
              "      <td>...</td>\n",
              "      <td>0</td>\n",
              "      <td>0</td>\n",
              "      <td>0</td>\n",
              "      <td>0</td>\n",
              "      <td>1</td>\n",
              "      <td>10</td>\n",
              "      <td>1</td>\n",
              "      <td>0</td>\n",
              "      <td>0</td>\n",
              "      <td>0</td>\n",
              "    </tr>\n",
              "    <tr>\n",
              "      <th>1</th>\n",
              "      <td>200.0</td>\n",
              "      <td>200.0</td>\n",
              "      <td>4.414289</td>\n",
              "      <td>-4.736827</td>\n",
              "      <td>3.720435</td>\n",
              "      <td>111.875058</td>\n",
              "      <td>1.228058</td>\n",
              "      <td>4.507257</td>\n",
              "      <td>-3.787175</td>\n",
              "      <td>3.267461</td>\n",
              "      <td>...</td>\n",
              "      <td>0</td>\n",
              "      <td>0</td>\n",
              "      <td>0</td>\n",
              "      <td>0</td>\n",
              "      <td>1</td>\n",
              "      <td>10</td>\n",
              "      <td>1</td>\n",
              "      <td>0</td>\n",
              "      <td>0</td>\n",
              "      <td>0</td>\n",
              "    </tr>\n",
              "    <tr>\n",
              "      <th>2</th>\n",
              "      <td>200.0</td>\n",
              "      <td>200.0</td>\n",
              "      <td>4.567191</td>\n",
              "      <td>-5.985437</td>\n",
              "      <td>3.490490</td>\n",
              "      <td>107.800000</td>\n",
              "      <td>1.015408</td>\n",
              "      <td>5.384155</td>\n",
              "      <td>-3.948853</td>\n",
              "      <td>2.929150</td>\n",
              "      <td>...</td>\n",
              "      <td>0</td>\n",
              "      <td>0</td>\n",
              "      <td>0</td>\n",
              "      <td>0</td>\n",
              "      <td>1</td>\n",
              "      <td>10</td>\n",
              "      <td>1</td>\n",
              "      <td>0</td>\n",
              "      <td>0</td>\n",
              "      <td>0</td>\n",
              "    </tr>\n",
              "    <tr>\n",
              "      <th>3</th>\n",
              "      <td>200.0</td>\n",
              "      <td>200.0</td>\n",
              "      <td>5.019058</td>\n",
              "      <td>-4.229949</td>\n",
              "      <td>6.786200</td>\n",
              "      <td>175.600000</td>\n",
              "      <td>1.350620</td>\n",
              "      <td>4.165598</td>\n",
              "      <td>-5.576041</td>\n",
              "      <td>1.544370</td>\n",
              "      <td>...</td>\n",
              "      <td>0</td>\n",
              "      <td>0</td>\n",
              "      <td>0</td>\n",
              "      <td>0</td>\n",
              "      <td>1</td>\n",
              "      <td>10</td>\n",
              "      <td>1</td>\n",
              "      <td>0</td>\n",
              "      <td>0</td>\n",
              "      <td>0</td>\n",
              "    </tr>\n",
              "    <tr>\n",
              "      <th>4</th>\n",
              "      <td>200.0</td>\n",
              "      <td>200.0</td>\n",
              "      <td>3.250262</td>\n",
              "      <td>-5.783587</td>\n",
              "      <td>2.449456</td>\n",
              "      <td>159.800000</td>\n",
              "      <td>0.759515</td>\n",
              "      <td>4.736023</td>\n",
              "      <td>-5.137939</td>\n",
              "      <td>4.211047</td>\n",
              "      <td>...</td>\n",
              "      <td>0</td>\n",
              "      <td>0</td>\n",
              "      <td>0</td>\n",
              "      <td>0</td>\n",
              "      <td>1</td>\n",
              "      <td>10</td>\n",
              "      <td>1</td>\n",
              "      <td>0</td>\n",
              "      <td>0</td>\n",
              "      <td>0</td>\n",
              "    </tr>\n",
              "  </tbody>\n",
              "</table>\n",
              "<p>5 rows × 79 columns</p>\n",
              "</div>\n",
              "    <div class=\"colab-df-buttons\">\n",
              "\n",
              "  <div class=\"colab-df-container\">\n",
              "    <button class=\"colab-df-convert\" onclick=\"convertToInteractive('df-8f664005-6926-47ff-ab33-d5b66a163da5')\"\n",
              "            title=\"Convert this dataframe to an interactive table.\"\n",
              "            style=\"display:none;\">\n",
              "\n",
              "  <svg xmlns=\"http://www.w3.org/2000/svg\" height=\"24px\" viewBox=\"0 -960 960 960\">\n",
              "    <path d=\"M120-120v-720h720v720H120Zm60-500h600v-160H180v160Zm220 220h160v-160H400v160Zm0 220h160v-160H400v160ZM180-400h160v-160H180v160Zm440 0h160v-160H620v160ZM180-180h160v-160H180v160Zm440 0h160v-160H620v160Z\"/>\n",
              "  </svg>\n",
              "    </button>\n",
              "\n",
              "  <style>\n",
              "    .colab-df-container {\n",
              "      display:flex;\n",
              "      gap: 12px;\n",
              "    }\n",
              "\n",
              "    .colab-df-convert {\n",
              "      background-color: #E8F0FE;\n",
              "      border: none;\n",
              "      border-radius: 50%;\n",
              "      cursor: pointer;\n",
              "      display: none;\n",
              "      fill: #1967D2;\n",
              "      height: 32px;\n",
              "      padding: 0 0 0 0;\n",
              "      width: 32px;\n",
              "    }\n",
              "\n",
              "    .colab-df-convert:hover {\n",
              "      background-color: #E2EBFA;\n",
              "      box-shadow: 0px 1px 2px rgba(60, 64, 67, 0.3), 0px 1px 3px 1px rgba(60, 64, 67, 0.15);\n",
              "      fill: #174EA6;\n",
              "    }\n",
              "\n",
              "    .colab-df-buttons div {\n",
              "      margin-bottom: 4px;\n",
              "    }\n",
              "\n",
              "    [theme=dark] .colab-df-convert {\n",
              "      background-color: #3B4455;\n",
              "      fill: #D2E3FC;\n",
              "    }\n",
              "\n",
              "    [theme=dark] .colab-df-convert:hover {\n",
              "      background-color: #434B5C;\n",
              "      box-shadow: 0px 1px 3px 1px rgba(0, 0, 0, 0.15);\n",
              "      filter: drop-shadow(0px 1px 2px rgba(0, 0, 0, 0.3));\n",
              "      fill: #FFFFFF;\n",
              "    }\n",
              "  </style>\n",
              "\n",
              "    <script>\n",
              "      const buttonEl =\n",
              "        document.querySelector('#df-8f664005-6926-47ff-ab33-d5b66a163da5 button.colab-df-convert');\n",
              "      buttonEl.style.display =\n",
              "        google.colab.kernel.accessAllowed ? 'block' : 'none';\n",
              "\n",
              "      async function convertToInteractive(key) {\n",
              "        const element = document.querySelector('#df-8f664005-6926-47ff-ab33-d5b66a163da5');\n",
              "        const dataTable =\n",
              "          await google.colab.kernel.invokeFunction('convertToInteractive',\n",
              "                                                    [key], {});\n",
              "        if (!dataTable) return;\n",
              "\n",
              "        const docLinkHtml = 'Like what you see? Visit the ' +\n",
              "          '<a target=\"_blank\" href=https://colab.research.google.com/notebooks/data_table.ipynb>data table notebook</a>'\n",
              "          + ' to learn more about interactive tables.';\n",
              "        element.innerHTML = '';\n",
              "        dataTable['output_type'] = 'display_data';\n",
              "        await google.colab.output.renderOutput(dataTable, element);\n",
              "        const docLink = document.createElement('div');\n",
              "        docLink.innerHTML = docLinkHtml;\n",
              "        element.appendChild(docLink);\n",
              "      }\n",
              "    </script>\n",
              "  </div>\n",
              "\n",
              "\n",
              "<div id=\"df-58c802d8-af23-42e7-b1a5-a6d940724b28\">\n",
              "  <button class=\"colab-df-quickchart\" onclick=\"quickchart('df-58c802d8-af23-42e7-b1a5-a6d940724b28')\"\n",
              "            title=\"Suggest charts\"\n",
              "            style=\"display:none;\">\n",
              "\n",
              "<svg xmlns=\"http://www.w3.org/2000/svg\" height=\"24px\"viewBox=\"0 0 24 24\"\n",
              "     width=\"24px\">\n",
              "    <g>\n",
              "        <path d=\"M19 3H5c-1.1 0-2 .9-2 2v14c0 1.1.9 2 2 2h14c1.1 0 2-.9 2-2V5c0-1.1-.9-2-2-2zM9 17H7v-7h2v7zm4 0h-2V7h2v10zm4 0h-2v-4h2v4z\"/>\n",
              "    </g>\n",
              "</svg>\n",
              "  </button>\n",
              "\n",
              "<style>\n",
              "  .colab-df-quickchart {\n",
              "      --bg-color: #E8F0FE;\n",
              "      --fill-color: #1967D2;\n",
              "      --hover-bg-color: #E2EBFA;\n",
              "      --hover-fill-color: #174EA6;\n",
              "      --disabled-fill-color: #AAA;\n",
              "      --disabled-bg-color: #DDD;\n",
              "  }\n",
              "\n",
              "  [theme=dark] .colab-df-quickchart {\n",
              "      --bg-color: #3B4455;\n",
              "      --fill-color: #D2E3FC;\n",
              "      --hover-bg-color: #434B5C;\n",
              "      --hover-fill-color: #FFFFFF;\n",
              "      --disabled-bg-color: #3B4455;\n",
              "      --disabled-fill-color: #666;\n",
              "  }\n",
              "\n",
              "  .colab-df-quickchart {\n",
              "    background-color: var(--bg-color);\n",
              "    border: none;\n",
              "    border-radius: 50%;\n",
              "    cursor: pointer;\n",
              "    display: none;\n",
              "    fill: var(--fill-color);\n",
              "    height: 32px;\n",
              "    padding: 0;\n",
              "    width: 32px;\n",
              "  }\n",
              "\n",
              "  .colab-df-quickchart:hover {\n",
              "    background-color: var(--hover-bg-color);\n",
              "    box-shadow: 0 1px 2px rgba(60, 64, 67, 0.3), 0 1px 3px 1px rgba(60, 64, 67, 0.15);\n",
              "    fill: var(--button-hover-fill-color);\n",
              "  }\n",
              "\n",
              "  .colab-df-quickchart-complete:disabled,\n",
              "  .colab-df-quickchart-complete:disabled:hover {\n",
              "    background-color: var(--disabled-bg-color);\n",
              "    fill: var(--disabled-fill-color);\n",
              "    box-shadow: none;\n",
              "  }\n",
              "\n",
              "  .colab-df-spinner {\n",
              "    border: 2px solid var(--fill-color);\n",
              "    border-color: transparent;\n",
              "    border-bottom-color: var(--fill-color);\n",
              "    animation:\n",
              "      spin 1s steps(1) infinite;\n",
              "  }\n",
              "\n",
              "  @keyframes spin {\n",
              "    0% {\n",
              "      border-color: transparent;\n",
              "      border-bottom-color: var(--fill-color);\n",
              "      border-left-color: var(--fill-color);\n",
              "    }\n",
              "    20% {\n",
              "      border-color: transparent;\n",
              "      border-left-color: var(--fill-color);\n",
              "      border-top-color: var(--fill-color);\n",
              "    }\n",
              "    30% {\n",
              "      border-color: transparent;\n",
              "      border-left-color: var(--fill-color);\n",
              "      border-top-color: var(--fill-color);\n",
              "      border-right-color: var(--fill-color);\n",
              "    }\n",
              "    40% {\n",
              "      border-color: transparent;\n",
              "      border-right-color: var(--fill-color);\n",
              "      border-top-color: var(--fill-color);\n",
              "    }\n",
              "    60% {\n",
              "      border-color: transparent;\n",
              "      border-right-color: var(--fill-color);\n",
              "    }\n",
              "    80% {\n",
              "      border-color: transparent;\n",
              "      border-right-color: var(--fill-color);\n",
              "      border-bottom-color: var(--fill-color);\n",
              "    }\n",
              "    90% {\n",
              "      border-color: transparent;\n",
              "      border-bottom-color: var(--fill-color);\n",
              "    }\n",
              "  }\n",
              "</style>\n",
              "\n",
              "  <script>\n",
              "    async function quickchart(key) {\n",
              "      const quickchartButtonEl =\n",
              "        document.querySelector('#' + key + ' button');\n",
              "      quickchartButtonEl.disabled = true;  // To prevent multiple clicks.\n",
              "      quickchartButtonEl.classList.add('colab-df-spinner');\n",
              "      try {\n",
              "        const charts = await google.colab.kernel.invokeFunction(\n",
              "            'suggestCharts', [key], {});\n",
              "      } catch (error) {\n",
              "        console.error('Error during call to suggestCharts:', error);\n",
              "      }\n",
              "      quickchartButtonEl.classList.remove('colab-df-spinner');\n",
              "      quickchartButtonEl.classList.add('colab-df-quickchart-complete');\n",
              "    }\n",
              "    (() => {\n",
              "      let quickchartButtonEl =\n",
              "        document.querySelector('#df-58c802d8-af23-42e7-b1a5-a6d940724b28 button');\n",
              "      quickchartButtonEl.style.display =\n",
              "        google.colab.kernel.accessAllowed ? 'block' : 'none';\n",
              "    })();\n",
              "  </script>\n",
              "</div>\n",
              "    </div>\n",
              "  </div>\n"
            ]
          },
          "metadata": {},
          "execution_count": 22
        }
      ],
      "source": [
        "# Display the first few rows to verify the new features\n",
        "df_full_enhanced.head()\n"
      ]
    },
    {
      "cell_type": "markdown",
      "metadata": {
        "id": "lKir5MVrHnJ0"
      },
      "source": [
        "# 4: Model Development\n",
        "\n",
        "In this phase, we transition into the crucial stage of constructing and fine-tuning our predictive model. This step involves integrating the insights and features we've meticulously crafted in the previous stages to develop a robust model capable of accurately predicting the event locations."
      ]
    },
    {
      "cell_type": "markdown",
      "metadata": {
        "id": "Ttze43nhJcQN"
      },
      "source": [
        "# CatBoost and GridSearch\n",
        "\n",
        "We're leveraging the power of CatBoost, a smart algorithm known for its accuracy in handling complex data, paired with GridSearch, a method that helps find the best settings for our model. This combination is like having a skilled chef (CatBoost) with the perfect recipe (GridSearch) to make our predictions as precise as possible. It's our way of ensuring we get the most accurate results from our data, without getting lost in the technical maze.\n",
        "\n",
        "\n",
        "\n",
        "\n",
        "\n",
        "\n"
      ]
    },
    {
      "cell_type": "markdown",
      "source": [
        "# Data Preparation:"
      ],
      "metadata": {
        "id": "9xuVgGR27KEW"
      }
    },
    {
      "cell_type": "code",
      "execution_count": 23,
      "metadata": {
        "id": "mTMK0LlkJaFr"
      },
      "outputs": [],
      "source": [
        "# Dropping the target variables 'x' and 'y' from the dataset to create feature set 'X'\n",
        "X = df_full_cleaned.drop(['x', 'y'], axis=1).values\n",
        "\n",
        "# Extracting the target variables 'x' and 'y' to create the target set 'y'\n",
        "y = df_full_cleaned[['x','y']].values\n"
      ]
    },
    {
      "cell_type": "markdown",
      "source": [
        "# Splitting the Dataset: Creating Training and Testing Sets"
      ],
      "metadata": {
        "id": "VscJ2MNV7Rhx"
      }
    },
    {
      "cell_type": "code",
      "source": [
        "# Splitting the dataset into training and testing sets\n",
        "X_train, X_test, y_train, y_test = train_test_split(X, y, test_size=0.2, random_state=42)\n"
      ],
      "metadata": {
        "id": "xZ-F2YCgM9iZ"
      },
      "execution_count": 24,
      "outputs": []
    },
    {
      "cell_type": "markdown",
      "source": [
        " # Target Variables: Preparing for Dual Predictions"
      ],
      "metadata": {
        "id": "dtEVuxKh7eld"
      }
    },
    {
      "cell_type": "code",
      "source": [
        "y_train_x = y_train[:,0]\n",
        "y_train_y = y_train[:,1]\n",
        "\n",
        "y_test_x = y_test[:,0]\n",
        "y_test_y = y_test[:,1]"
      ],
      "metadata": {
        "id": "rKL4rn4bNAXN"
      },
      "execution_count": 25,
      "outputs": []
    },
    {
      "cell_type": "markdown",
      "source": [
        "# Setting Up CatBoost Regressor"
      ],
      "metadata": {
        "id": "TY_8awZ77mnl"
      }
    },
    {
      "cell_type": "code",
      "source": [
        "catboost = CatBoostRegressor(loss_function='RMSE', random_seed=42, verbose=0)"
      ],
      "metadata": {
        "id": "6HoD4gNzVFPT"
      },
      "execution_count": 26,
      "outputs": []
    },
    {
      "cell_type": "markdown",
      "source": [
        " # Euclidean Distance Calculation"
      ],
      "metadata": {
        "id": "zJKhmwrG729N"
      }
    },
    {
      "cell_type": "code",
      "source": [
        "def euclidean_distance(y_true, y_pred):\n",
        "    # Extract the x-coordinates from the true and predicted values\n",
        "    xx_test = y_true[:, 0]\n",
        "    yy_test = y_true[:, 1]\n",
        "\n",
        "    # Extract the y-coordinates from the true and predicted values\n",
        "    xx_pred = y_pred[:, 0]\n",
        "    yy_pred = y_pred[:, 1]\n",
        "\n",
        "    # Determine the number of data points\n",
        "    n = y_true.shape[0]\n",
        "\n",
        "    # Calculate the sum of squared differences in x and y coordinates\n",
        "    numerator = np.sqrt(np.sum((xx_test - xx_pred)**2 + (yy_test - yy_pred)**2))\n",
        "\n",
        "    # Normalize the distance by the number of data points\n",
        "    return numerator / n\n"
      ],
      "metadata": {
        "id": "kVrPY6PVVLaZ"
      },
      "execution_count": 27,
      "outputs": []
    },
    {
      "cell_type": "markdown",
      "source": [
        "# Tuning the CatBoost Model with GridSearch\n",
        "\n",
        "In this crucial step, we focus on fine-tuning our CatBoost model to ensure it performs at its best. This process involves using GridSearchCV, a powerful tool that systematically experiments with a combination of different hyperparameters to find the most effective settings for our model."
      ],
      "metadata": {
        "id": "Zeu-FZrT9k3z"
      }
    },
    {
      "cell_type": "code",
      "source": [
        "# Defining the range of parameters for GridSearch\n",
        "param_grid = {\n",
        "    'learning_rate': [0.15, 0.2, 0.25],  # Learning rates to test\n",
        "    'depth': [8],                        # Tree depth to test\n",
        "    'iterations': [1300, 1500]           # Number of iterations to test\n",
        "}\n",
        "\n",
        "# Setting up GridSearchCV with the CatBoostRegressor\n",
        "# 'cv=5' implies using 5-fold cross-validation\n",
        "# 'error_score='raise'' ensures that any errors during the process are raised, not ignored\n",
        "grid_search = GridSearchCV(estimator=catboost, param_grid=param_grid, cv=5, verbose=0, error_score='raise')\n",
        "\n",
        "# Fitting GridSearch to the training data\n",
        "grid_search.fit(X_train, y_train_x)\n"
      ],
      "metadata": {
        "colab": {
          "base_uri": "https://localhost:8080/",
          "height": 117
        },
        "id": "09L7aLyUNPGL",
        "outputId": "33d7c820-def0-403b-c500-cbd2f00dff75"
      },
      "execution_count": 28,
      "outputs": [
        {
          "output_type": "execute_result",
          "data": {
            "text/plain": [
              "GridSearchCV(cv=5, error_score='raise',\n",
              "             estimator=<catboost.core.CatBoostRegressor object at 0x7b276bd770a0>,\n",
              "             param_grid={'depth': [8], 'iterations': [1300, 1500],\n",
              "                         'learning_rate': [0.15, 0.2, 0.25]})"
            ],
            "text/html": [
              "<style>#sk-container-id-1 {color: black;background-color: white;}#sk-container-id-1 pre{padding: 0;}#sk-container-id-1 div.sk-toggleable {background-color: white;}#sk-container-id-1 label.sk-toggleable__label {cursor: pointer;display: block;width: 100%;margin-bottom: 0;padding: 0.3em;box-sizing: border-box;text-align: center;}#sk-container-id-1 label.sk-toggleable__label-arrow:before {content: \"▸\";float: left;margin-right: 0.25em;color: #696969;}#sk-container-id-1 label.sk-toggleable__label-arrow:hover:before {color: black;}#sk-container-id-1 div.sk-estimator:hover label.sk-toggleable__label-arrow:before {color: black;}#sk-container-id-1 div.sk-toggleable__content {max-height: 0;max-width: 0;overflow: hidden;text-align: left;background-color: #f0f8ff;}#sk-container-id-1 div.sk-toggleable__content pre {margin: 0.2em;color: black;border-radius: 0.25em;background-color: #f0f8ff;}#sk-container-id-1 input.sk-toggleable__control:checked~div.sk-toggleable__content {max-height: 200px;max-width: 100%;overflow: auto;}#sk-container-id-1 input.sk-toggleable__control:checked~label.sk-toggleable__label-arrow:before {content: \"▾\";}#sk-container-id-1 div.sk-estimator input.sk-toggleable__control:checked~label.sk-toggleable__label {background-color: #d4ebff;}#sk-container-id-1 div.sk-label input.sk-toggleable__control:checked~label.sk-toggleable__label {background-color: #d4ebff;}#sk-container-id-1 input.sk-hidden--visually {border: 0;clip: rect(1px 1px 1px 1px);clip: rect(1px, 1px, 1px, 1px);height: 1px;margin: -1px;overflow: hidden;padding: 0;position: absolute;width: 1px;}#sk-container-id-1 div.sk-estimator {font-family: monospace;background-color: #f0f8ff;border: 1px dotted black;border-radius: 0.25em;box-sizing: border-box;margin-bottom: 0.5em;}#sk-container-id-1 div.sk-estimator:hover {background-color: #d4ebff;}#sk-container-id-1 div.sk-parallel-item::after {content: \"\";width: 100%;border-bottom: 1px solid gray;flex-grow: 1;}#sk-container-id-1 div.sk-label:hover label.sk-toggleable__label {background-color: #d4ebff;}#sk-container-id-1 div.sk-serial::before {content: \"\";position: absolute;border-left: 1px solid gray;box-sizing: border-box;top: 0;bottom: 0;left: 50%;z-index: 0;}#sk-container-id-1 div.sk-serial {display: flex;flex-direction: column;align-items: center;background-color: white;padding-right: 0.2em;padding-left: 0.2em;position: relative;}#sk-container-id-1 div.sk-item {position: relative;z-index: 1;}#sk-container-id-1 div.sk-parallel {display: flex;align-items: stretch;justify-content: center;background-color: white;position: relative;}#sk-container-id-1 div.sk-item::before, #sk-container-id-1 div.sk-parallel-item::before {content: \"\";position: absolute;border-left: 1px solid gray;box-sizing: border-box;top: 0;bottom: 0;left: 50%;z-index: -1;}#sk-container-id-1 div.sk-parallel-item {display: flex;flex-direction: column;z-index: 1;position: relative;background-color: white;}#sk-container-id-1 div.sk-parallel-item:first-child::after {align-self: flex-end;width: 50%;}#sk-container-id-1 div.sk-parallel-item:last-child::after {align-self: flex-start;width: 50%;}#sk-container-id-1 div.sk-parallel-item:only-child::after {width: 0;}#sk-container-id-1 div.sk-dashed-wrapped {border: 1px dashed gray;margin: 0 0.4em 0.5em 0.4em;box-sizing: border-box;padding-bottom: 0.4em;background-color: white;}#sk-container-id-1 div.sk-label label {font-family: monospace;font-weight: bold;display: inline-block;line-height: 1.2em;}#sk-container-id-1 div.sk-label-container {text-align: center;}#sk-container-id-1 div.sk-container {/* jupyter's `normalize.less` sets `[hidden] { display: none; }` but bootstrap.min.css set `[hidden] { display: none !important; }` so we also need the `!important` here to be able to override the default hidden behavior on the sphinx rendered scikit-learn.org. See: https://github.com/scikit-learn/scikit-learn/issues/21755 */display: inline-block !important;position: relative;}#sk-container-id-1 div.sk-text-repr-fallback {display: none;}</style><div id=\"sk-container-id-1\" class=\"sk-top-container\"><div class=\"sk-text-repr-fallback\"><pre>GridSearchCV(cv=5, error_score=&#x27;raise&#x27;,\n",
              "             estimator=&lt;catboost.core.CatBoostRegressor object at 0x7b276bd770a0&gt;,\n",
              "             param_grid={&#x27;depth&#x27;: [8], &#x27;iterations&#x27;: [1300, 1500],\n",
              "                         &#x27;learning_rate&#x27;: [0.15, 0.2, 0.25]})</pre><b>In a Jupyter environment, please rerun this cell to show the HTML representation or trust the notebook. <br />On GitHub, the HTML representation is unable to render, please try loading this page with nbviewer.org.</b></div><div class=\"sk-container\" hidden><div class=\"sk-item sk-dashed-wrapped\"><div class=\"sk-label-container\"><div class=\"sk-label sk-toggleable\"><input class=\"sk-toggleable__control sk-hidden--visually\" id=\"sk-estimator-id-1\" type=\"checkbox\" ><label for=\"sk-estimator-id-1\" class=\"sk-toggleable__label sk-toggleable__label-arrow\">GridSearchCV</label><div class=\"sk-toggleable__content\"><pre>GridSearchCV(cv=5, error_score=&#x27;raise&#x27;,\n",
              "             estimator=&lt;catboost.core.CatBoostRegressor object at 0x7b276bd770a0&gt;,\n",
              "             param_grid={&#x27;depth&#x27;: [8], &#x27;iterations&#x27;: [1300, 1500],\n",
              "                         &#x27;learning_rate&#x27;: [0.15, 0.2, 0.25]})</pre></div></div></div><div class=\"sk-parallel\"><div class=\"sk-parallel-item\"><div class=\"sk-item\"><div class=\"sk-label-container\"><div class=\"sk-label sk-toggleable\"><input class=\"sk-toggleable__control sk-hidden--visually\" id=\"sk-estimator-id-2\" type=\"checkbox\" ><label for=\"sk-estimator-id-2\" class=\"sk-toggleable__label sk-toggleable__label-arrow\">estimator: CatBoostRegressor</label><div class=\"sk-toggleable__content\"><pre>&lt;catboost.core.CatBoostRegressor object at 0x7b276bd770a0&gt;</pre></div></div></div><div class=\"sk-serial\"><div class=\"sk-item\"><div class=\"sk-estimator sk-toggleable\"><input class=\"sk-toggleable__control sk-hidden--visually\" id=\"sk-estimator-id-3\" type=\"checkbox\" ><label for=\"sk-estimator-id-3\" class=\"sk-toggleable__label sk-toggleable__label-arrow\">CatBoostRegressor</label><div class=\"sk-toggleable__content\"><pre>&lt;catboost.core.CatBoostRegressor object at 0x7b276bd770a0&gt;</pre></div></div></div></div></div></div></div></div></div></div>"
            ]
          },
          "metadata": {},
          "execution_count": 28
        }
      ]
    },
    {
      "cell_type": "markdown",
      "source": [
        "# Extracting Optimal Hyperparameters from GridSearch"
      ],
      "metadata": {
        "id": "TfHqxefw-Ohy"
      }
    },
    {
      "cell_type": "code",
      "source": [
        "# Retrieving the best hyperparameters from the GridSearch\n",
        "best_params_grid = grid_search.best_params_\n",
        "\n",
        "# Display the best hyperparameters\n",
        "best_params_grid\n"
      ],
      "metadata": {
        "colab": {
          "base_uri": "https://localhost:8080/"
        },
        "id": "RMGBW6cRe17s",
        "outputId": "b8173cd0-839c-4be1-b6d2-a3f44516ac00"
      },
      "execution_count": 29,
      "outputs": [
        {
          "output_type": "execute_result",
          "data": {
            "text/plain": [
              "{'depth': 8, 'iterations': 1500, 'learning_rate': 0.2}"
            ]
          },
          "metadata": {},
          "execution_count": 29
        }
      ]
    },
    {
      "cell_type": "markdown",
      "source": [
        "# Utilizing the Best Model for Predictions"
      ],
      "metadata": {
        "id": "7S9qi0hj-fwL"
      }
    },
    {
      "cell_type": "code",
      "source": [
        "# Retrieving the best model from GridSearchCV\n",
        "best_model_grid = grid_search.best_estimator_\n",
        "\n",
        "# Making predictions using the best model on the test dataset\n",
        "y_pred_x = best_model_grid.predict(X_test)\n"
      ],
      "metadata": {
        "id": "FfZs2BVquTKz"
      },
      "execution_count": 30,
      "outputs": []
    },
    {
      "cell_type": "markdown",
      "source": [
        "# Finalizing Predictions for Y Coordinates"
      ],
      "metadata": {
        "id": "T7JBj9Cu-wXJ"
      }
    },
    {
      "cell_type": "code",
      "source": [
        "# Fitting the best model from GridSearchCV with the training data for 'y' coordinates\n",
        "best_model_grid.fit(X_train, y_train_y)\n",
        "\n",
        "# Making predictions for the 'y' coordinates using the best model\n",
        "y_pred_y = best_model_grid.predict(X_test)\n"
      ],
      "metadata": {
        "id": "T3UusHZouOFy"
      },
      "execution_count": 31,
      "outputs": []
    },
    {
      "cell_type": "markdown",
      "source": [
        "# Compiling Predictions into a DataFrame"
      ],
      "metadata": {
        "id": "IEkGw3lq_Uh3"
      }
    },
    {
      "cell_type": "code",
      "source": [
        "y_pred = pd.DataFrame({'x': y_pred_x, 'y': y_pred_y})"
      ],
      "metadata": {
        "id": "ff4Op5isfAvD"
      },
      "execution_count": 32,
      "outputs": []
    },
    {
      "cell_type": "markdown",
      "source": [
        "# Evaluating Model Accuracy with Euclidean Distance"
      ],
      "metadata": {
        "id": "1MUW4iuM_bZZ"
      }
    },
    {
      "cell_type": "code",
      "source": [
        "score_grid = euclidean_distance(y_test, y_pred.values)\n",
        "print(f\"Euclidean Distance {score_grid}\")"
      ],
      "metadata": {
        "colab": {
          "base_uri": "https://localhost:8080/"
        },
        "id": "ZEyPXGVIfBcW",
        "outputId": "dbf10bc7-9961-401f-be25-a1d0253d2fc3"
      },
      "execution_count": 33,
      "outputs": [
        {
          "output_type": "stream",
          "name": "stdout",
          "text": [
            "Euclidean Distance 0.0183616009859448\n"
          ]
        }
      ]
    },
    {
      "cell_type": "markdown",
      "source": [
        "# Visualization\n"
      ],
      "metadata": {
        "id": "suU5jtxmVoBS"
      }
    },
    {
      "cell_type": "markdown",
      "source": [
        "# Histogram of Euclidean Distances for Model Predictions:\n",
        "This plot displays the frequency distribution of Euclidean distances between the model's predicted coordinates and the actual (true) coordinates. A concentration of distances near zero indicates higher model accuracy in predicting particle interaction locations within the Resistive Silicon Detector (RSD)."
      ],
      "metadata": {
        "id": "P83_1Wk-V9L-"
      }
    },
    {
      "cell_type": "code",
      "source": [
        "# Plotting the histogram of Euclidean distances\n",
        "euclidean_distances = np.sqrt(np.sum((y_test - y_pred.values)**2, axis=1))\n",
        "\n",
        "plt.figure(figsize=(10, 6))\n",
        "plt.hist(euclidean_distances, bins=30, color='skyblue', edgecolor='black')\n",
        "plt.title('Distribution of Euclidean Distances')\n",
        "plt.xlabel('Euclidean Distance')\n",
        "plt.ylabel('Frequency')\n",
        "plt.grid(True)\n",
        "plt.show()"
      ],
      "metadata": {
        "colab": {
          "base_uri": "https://localhost:8080/",
          "height": 564
        },
        "id": "t2_yBLNkWA6L",
        "outputId": "69411d1c-d966-4f4b-dec3-b40cb45f3fb4"
      },
      "execution_count": 34,
      "outputs": [
        {
          "output_type": "display_data",
          "data": {
            "text/plain": [
              "<Figure size 1000x600 with 1 Axes>"
            ],
            "image/png": "[encoded data removed]"
          },
          "metadata": {}
        }
      ]
    },
    {
      "cell_type": "markdown",
      "source": [
        "# Comparison of True and Predicted Particle Interaction Coordinates:\n",
        "\n",
        "This scatter plot contrasts the true (actual) coordinates of particle interactions with those predicted by the model. Points closer together indicate a higher accuracy of the model. Blue dots represent the true values, and red dots represent the predicted values, providing a visual assessment of the model's localization performance."
      ],
      "metadata": {
        "id": "J7J0fLg6WE-8"
      }
    },
    {
      "cell_type": "code",
      "source": [
        "# Scatter plot of true vs. predicted values\n",
        "plt.figure(figsize=(10, 8))\n",
        "plt.scatter(y_test[:, 0], y_test[:, 1], c='blue', label='True Values', alpha=0.5)\n",
        "plt.scatter(y_pred['x'], y_pred['y'], c='red', label='Predicted Values', alpha=0.5)\n",
        "plt.title('True vs. Predicted Coordinates')\n",
        "plt.xlabel('X Coordinate')\n",
        "plt.ylabel('Y Coordinate')\n",
        "plt.legend()\n",
        "plt.grid(True)\n",
        "plt.show()"
      ],
      "metadata": {
        "colab": {
          "base_uri": "https://localhost:8080/",
          "height": 773
        },
        "id": "kQJMRC2OWIsL",
        "outputId": "bff3d2aa-00d6-4ec9-9bee-2b1a42c36498"
      },
      "execution_count": 35,
      "outputs": [
        {
          "output_type": "stream",
          "name": "stderr",
          "text": [
            "/usr/local/lib/python3.10/dist-packages/IPython/core/pylabtools.py:151: UserWarning: Creating legend with loc=\"best\" can be slow with large amounts of data.\n",
            "  fig.canvas.print_figure(bytes_io, **kw)\n"
          ]
        },
        {
          "output_type": "display_data",
          "data": {
            "text/plain": [
              "<Figure size 1000x800 with 1 Axes>"
            ],
            "image/png": "[encoded data removed]"
          },
          "metadata": {}
        }
      ]
    },
    {
      "cell_type": "markdown",
      "source": [
        "# 5: Model Evaluation Phase\n",
        "\n",
        "In this stage, we focus on evaluating our trained model using a new dataset. This step is crucial to assess how well our model generalizes to unseen data, a key aspect of its practical applicability."
      ],
      "metadata": {
        "id": "XNNilEtn_pDV"
      }
    },
    {
      "cell_type": "markdown",
      "metadata": {
        "id": "QL8enE_BPj2z"
      },
      "source": [
        "# Loading the Evaluation Dataset:"
      ]
    },
    {
      "cell_type": "code",
      "source": [
        "# Load the evaluation dataset\n",
        "evaluation_event = '/content/drive/MyDrive/DSL_2024/evaluation.csv'\n",
        "df_eval = pd.read_csv(evaluation_event)"
      ],
      "metadata": {
        "id": "98dilXEX_5nn"
      },
      "execution_count": 36,
      "outputs": []
    },
    {
      "cell_type": "markdown",
      "source": [
        "# Identifying noisy features and dropping them"
      ],
      "metadata": {
        "id": "HExK4bnnAKoG"
      }
    },
    {
      "cell_type": "code",
      "source": [
        "# Noisy Features\n",
        "\n",
        "noisy_pads = [0, 7, 12, 16, 17]\n",
        "signal_attributes = ['pmax', 'negpmax', 'area', 'tmax', 'rms']\n",
        "features_to_remove = [f\"{attribute}[{pad}]\" for pad in noisy_pads for attribute in signal_attributes]\n",
        "df_cleaned_eval = df_eval.drop(columns=features_to_remove)\n"
      ],
      "metadata": {
        "id": "rqUUBy9jALcX"
      },
      "execution_count": 37,
      "outputs": []
    },
    {
      "cell_type": "markdown",
      "source": [
        "# Apply pad_localization to create new features"
      ],
      "metadata": {
        "id": "0M4EK4WHAQri"
      }
    },
    {
      "cell_type": "code",
      "source": [
        "# Creating New Features\n",
        "\n",
        "X_eval = df_cleaned_eval.drop(['Id'], axis=1)\n",
        "id_eval = df_cleaned_eval['Id']\n",
        "new_columns = X_eval.apply(lambda row: pad_localization(row, real_pads, neighborhood_dict), axis=1)\n",
        "X_eval = pd.concat([X_eval, new_columns], axis=1)"
      ],
      "metadata": {
        "id": "KrJxeqWXASPW"
      },
      "execution_count": 38,
      "outputs": []
    },
    {
      "cell_type": "markdown",
      "source": [
        "\n",
        "# Predicting with the best model from GridSearch"
      ],
      "metadata": {
        "id": "JaYWAYO2Aa9t"
      }
    },
    {
      "cell_type": "code",
      "source": [
        "# Predicting the best model\n",
        "\n",
        "best_model_grid.fit(X, y[:,0])\n",
        "y_eval_x = best_model_grid.predict(X_eval)\n",
        "best_model_grid.fit(X, y[:,1])\n",
        "y_eval_y = best_model_grid.predict(X_eval)"
      ],
      "metadata": {
        "id": "4Kr_LHdzAcHG"
      },
      "execution_count": 39,
      "outputs": []
    },
    {
      "cell_type": "markdown",
      "source": [
        "\n",
        "# Creating the final DataFrame and generating the final CSV file"
      ],
      "metadata": {
        "id": "6gDBulKzAoO5"
      }
    },
    {
      "cell_type": "code",
      "source": [
        "from google.colab import files\n",
        "\n",
        "# Generating the final CSV file\n",
        "df_final = pd.DataFrame({'Id': id_eval, 'Predicted': [f'{x}|{y}' for x, y in zip(y_eval_x, y_eval_y)]})\n",
        "\n",
        "# Setting the filename for the CSV file\n",
        "csv_file_name = 'final_submission_2024_DSL.csv'\n",
        "\n",
        "# Saving the DataFrame to a CSV file\n",
        "df_final.to_csv(csv_file_name, index=False, encoding='utf-8')\n",
        "\n",
        "#  downloading  the CSV file\n",
        "files.download(csv_file_name)\n",
        "\n",
        "print(f\"Predictions saved and ready for download: {csv_file_name}\")\n"
      ],
      "metadata": {
        "colab": {
          "base_uri": "https://localhost:8080/",
          "height": 34
        },
        "id": "AeATr65evCCe",
        "outputId": "8d5b7d63-8ce5-4c1e-ee53-6563743d9ac9"
      },
      "execution_count": 40,
      "outputs": [
        {
          "output_type": "display_data",
          "data": {
            "text/plain": [
              "<IPython.core.display.Javascript object>"
            ],
            "application/javascript": [
              "\n",
              "    async function download(id, filename, size) {\n",
              "      if (!google.colab.kernel.accessAllowed) {\n",
              "        return;\n",
              "      }\n",
              "      const div = document.createElement('div');\n",
              "      const label = document.createElement('label');\n",
              "      label.textContent = `Downloading \"${filename}\": `;\n",
              "      div.appendChild(label);\n",
              "      const progress = document.createElement('progress');\n",
              "      progress.max = size;\n",
              "      div.appendChild(progress);\n",
              "      document.body.appendChild(div);\n",
              "\n",
              "      const buffers = [];\n",
              "      let downloaded = 0;\n",
              "\n",
              "      const channel = await google.colab.kernel.comms.open(id);\n",
              "      // Send a message to notify the kernel that we're ready.\n",
              "      channel.send({})\n",
              "\n",
              "      for await (const message of channel.messages) {\n",
              "        // Send a message to notify the kernel that we're ready.\n",
              "        channel.send({})\n",
              "        if (message.buffers) {\n",
              "          for (const buffer of message.buffers) {\n",
              "            buffers.push(buffer);\n",
              "            downloaded += buffer.byteLength;\n",
              "            progress.value = downloaded;\n",
              "          }\n",
              "        }\n",
              "      }\n",
              "      const blob = new Blob(buffers, {type: 'application/binary'});\n",
              "      const a = document.createElement('a');\n",
              "      a.href = window.URL.createObjectURL(blob);\n",
              "      a.download = filename;\n",
              "      div.appendChild(a);\n",
              "      a.click();\n",
              "      div.remove();\n",
              "    }\n",
              "  "
            ]
          },
          "metadata": {}
        },
        {
          "output_type": "display_data",
          "data": {
            "text/plain": [
              "<IPython.core.display.Javascript object>"
            ],
            "application/javascript": [
              "download(\"download_fdfbf8bf-38ab-429a-b075-573b213bb551\", \"final_submission_2024_DSL.csv\", 5491442)"
            ]
          },
          "metadata": {}
        },
        {
          "output_type": "stream",
          "name": "stdout",
          "text": [
            "Predictions saved and ready for download: final_submission_2024_DSL.csv\n"
          ]
        }
      ]
    }
  ],
  "metadata": {
    "colab": {
      "provenance": [],
      "toc_visible": true,
      "gpuType": "T4"
    },
    "kernelspec": {
      "display_name": "Python 3",
      "name": "python3"
    },
    "language_info": {
      "codemirror_mode": {
        "name": "ipython",
        "version": 3
      },
      "file_extension": ".py",
      "mimetype": "text/x-python",
      "name": "python",
      "nbconvert_exporter": "python",
      "pygments_lexer": "ipython3",
      "version": "3.10.9"
    },
    "accelerator": "GPU"
  },
  "nbformat": 4,
  "nbformat_minor": 0
}